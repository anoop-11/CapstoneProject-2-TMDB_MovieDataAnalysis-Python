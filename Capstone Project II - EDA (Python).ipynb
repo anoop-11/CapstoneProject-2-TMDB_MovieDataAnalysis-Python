{
 "cells": [
  {
   "cell_type": "markdown",
   "id": "5231fc90",
   "metadata": {},
   "source": [
    "# Capstone Project II - EDA (Python)"
   ]
  },
  {
   "cell_type": "markdown",
   "id": "b1ec9115",
   "metadata": {},
   "source": [
    "### Importing the necessary libraries "
   ]
  },
  {
   "cell_type": "code",
   "execution_count": 1,
   "id": "58d30dfc",
   "metadata": {},
   "outputs": [],
   "source": [
    "import numpy as np\n",
    "import pandas as pd\n",
    "import matplotlib.pyplot as plt\n",
    "import seaborn as sns\n",
    "import warnings\n",
    "warnings.filterwarnings('ignore')\n",
    "from tabulate import tabulate               \n",
    "import matplotlib as mat"
   ]
  },
  {
   "cell_type": "markdown",
   "id": "8f2af92d",
   "metadata": {},
   "source": [
    "### Levels for Data Exploration"
   ]
  },
  {
   "cell_type": "markdown",
   "id": "49311fc4",
   "metadata": {},
   "source": [
    "Level 0 : Understanding Data                                      \n",
    "Level 1 : Univariate Analysis"
   ]
  },
  {
   "cell_type": "markdown",
   "id": "6767d2ae",
   "metadata": {},
   "source": [
    "### Level 0 Tasks: Understanding Data"
   ]
  },
  {
   "cell_type": "raw",
   "id": "34130d2c",
   "metadata": {},
   "source": [
    "1.Visually inspect the first few and last few rows of the data. \n",
    "2.Check the shape of the data frame. \n",
    "3.Check the count of null values in each column. \n",
    "4.Inspect all the column names. \n",
    "5.Check the information of the data frame using the info() function."
   ]
  },
  {
   "cell_type": "markdown",
   "id": "d50a5b40",
   "metadata": {},
   "source": [
    "## Task 1 : "
   ]
  },
  {
   "cell_type": "markdown",
   "id": "103e2d15",
   "metadata": {},
   "source": [
    "### Reading the file"
   ]
  },
  {
   "cell_type": "code",
   "execution_count": 2,
   "id": "3ff499c6",
   "metadata": {},
   "outputs": [],
   "source": [
    "df = pd.read_csv(\"DS1_C8_V3_ND_Sprint2_Data Analysis Using Python_Dataset.csv\")"
   ]
  },
  {
   "cell_type": "markdown",
   "id": "4c7f8832",
   "metadata": {},
   "source": [
    "### Level 0 Analysis: Understanding Data"
   ]
  },
  {
   "cell_type": "markdown",
   "id": "7cc2a55f",
   "metadata": {},
   "source": [
    "#### Reading the top 5 rows"
   ]
  },
  {
   "cell_type": "code",
   "execution_count": 3,
   "id": "b2d9dbb2",
   "metadata": {},
   "outputs": [
    {
     "data": {
      "text/html": [
       "<div>\n",
       "<style scoped>\n",
       "    .dataframe tbody tr th:only-of-type {\n",
       "        vertical-align: middle;\n",
       "    }\n",
       "\n",
       "    .dataframe tbody tr th {\n",
       "        vertical-align: top;\n",
       "    }\n",
       "\n",
       "    .dataframe thead th {\n",
       "        text-align: right;\n",
       "    }\n",
       "</style>\n",
       "<table border=\"1\" class=\"dataframe\">\n",
       "  <thead>\n",
       "    <tr style=\"text-align: right;\">\n",
       "      <th></th>\n",
       "      <th>budget</th>\n",
       "      <th>genres</th>\n",
       "      <th>homepage</th>\n",
       "      <th>id</th>\n",
       "      <th>keywords</th>\n",
       "      <th>original_language</th>\n",
       "      <th>original_title</th>\n",
       "      <th>overview</th>\n",
       "      <th>popularity</th>\n",
       "      <th>production_companies</th>\n",
       "      <th>production_countries</th>\n",
       "      <th>release_date</th>\n",
       "      <th>revenue</th>\n",
       "      <th>runtime</th>\n",
       "      <th>spoken_languages</th>\n",
       "      <th>status</th>\n",
       "      <th>tagline</th>\n",
       "      <th>title</th>\n",
       "      <th>vote_average</th>\n",
       "      <th>vote_count</th>\n",
       "    </tr>\n",
       "  </thead>\n",
       "  <tbody>\n",
       "    <tr>\n",
       "      <th>0</th>\n",
       "      <td>237000000</td>\n",
       "      <td>[{\"id\": 28, \"name\": \"Action\"}, {\"id\": 12, \"nam...</td>\n",
       "      <td>http://www.avatarmovie.com/</td>\n",
       "      <td>19995</td>\n",
       "      <td>[{\"id\": 1463, \"name\": \"culture clash\"}, {\"id\":...</td>\n",
       "      <td>en</td>\n",
       "      <td>Avatar</td>\n",
       "      <td>In the 22nd century, a paraplegic Marine is di...</td>\n",
       "      <td>150.437577</td>\n",
       "      <td>[{\"name\": \"Ingenious Film Partners\", \"id\": 289...</td>\n",
       "      <td>[{\"iso_3166_1\": \"US\", \"name\": \"United States o...</td>\n",
       "      <td>10/12/2009</td>\n",
       "      <td>2787965087</td>\n",
       "      <td>162.0</td>\n",
       "      <td>[{\"iso_639_1\": \"en\", \"name\": \"English\"}, {\"iso...</td>\n",
       "      <td>Released</td>\n",
       "      <td>Enter the World of Pandora.</td>\n",
       "      <td>Avatar</td>\n",
       "      <td>7.2</td>\n",
       "      <td>11800</td>\n",
       "    </tr>\n",
       "    <tr>\n",
       "      <th>1</th>\n",
       "      <td>300000000</td>\n",
       "      <td>[{\"id\": 12, \"name\": \"Adventure\"}, {\"id\": 14, \"...</td>\n",
       "      <td>http://disney.go.com/disneypictures/pirates/</td>\n",
       "      <td>285</td>\n",
       "      <td>[{\"id\": 270, \"name\": \"ocean\"}, {\"id\": 726, \"na...</td>\n",
       "      <td>en</td>\n",
       "      <td>Pirates of the Caribbean: At World's End</td>\n",
       "      <td>Captain Barbossa, long believed to be dead, ha...</td>\n",
       "      <td>139.082615</td>\n",
       "      <td>[{\"name\": \"Walt Disney Pictures\", \"id\": 2}, {\"...</td>\n",
       "      <td>[{\"iso_3166_1\": \"US\", \"name\": \"United States o...</td>\n",
       "      <td>19-05-2007</td>\n",
       "      <td>961000000</td>\n",
       "      <td>169.0</td>\n",
       "      <td>[{\"iso_639_1\": \"en\", \"name\": \"English\"}]</td>\n",
       "      <td>Released</td>\n",
       "      <td>At the end of the world, the adventure begins.</td>\n",
       "      <td>Pirates of the Caribbean: At World's End</td>\n",
       "      <td>6.9</td>\n",
       "      <td>4500</td>\n",
       "    </tr>\n",
       "    <tr>\n",
       "      <th>2</th>\n",
       "      <td>245000000</td>\n",
       "      <td>[{\"id\": 28, \"name\": \"Action\"}, {\"id\": 12, \"nam...</td>\n",
       "      <td>http://www.sonypictures.com/movies/spectre/</td>\n",
       "      <td>206647</td>\n",
       "      <td>[{\"id\": 470, \"name\": \"spy\"}, {\"id\": 818, \"name...</td>\n",
       "      <td>en</td>\n",
       "      <td>Spectre</td>\n",
       "      <td>A cryptic message from Bond’s past sends him o...</td>\n",
       "      <td>107.376788</td>\n",
       "      <td>[{\"name\": \"Columbia Pictures\", \"id\": 5}, {\"nam...</td>\n",
       "      <td>[{\"iso_3166_1\": \"GB\", \"name\": \"United Kingdom\"...</td>\n",
       "      <td>26-10-2015</td>\n",
       "      <td>880674609</td>\n",
       "      <td>148.0</td>\n",
       "      <td>[{\"iso_639_1\": \"fr\", \"name\": \"Fran\\u00e7ais\"},...</td>\n",
       "      <td>Released</td>\n",
       "      <td>A Plan No One Escapes</td>\n",
       "      <td>Spectre</td>\n",
       "      <td>6.3</td>\n",
       "      <td>4466</td>\n",
       "    </tr>\n",
       "    <tr>\n",
       "      <th>3</th>\n",
       "      <td>250000000</td>\n",
       "      <td>[{\"id\": 28, \"name\": \"Action\"}, {\"id\": 80, \"nam...</td>\n",
       "      <td>http://www.thedarkknightrises.com/</td>\n",
       "      <td>49026</td>\n",
       "      <td>[{\"id\": 849, \"name\": \"dc comics\"}, {\"id\": 853,...</td>\n",
       "      <td>en</td>\n",
       "      <td>The Dark Knight Rises</td>\n",
       "      <td>Following the death of District Attorney Harve...</td>\n",
       "      <td>112.312950</td>\n",
       "      <td>[{\"name\": \"Legendary Pictures\", \"id\": 923}, {\"...</td>\n",
       "      <td>[{\"iso_3166_1\": \"US\", \"name\": \"United States o...</td>\n",
       "      <td>16-07-2012</td>\n",
       "      <td>1084939099</td>\n",
       "      <td>165.0</td>\n",
       "      <td>[{\"iso_639_1\": \"en\", \"name\": \"English\"}]</td>\n",
       "      <td>Released</td>\n",
       "      <td>The Legend Ends</td>\n",
       "      <td>The Dark Knight Rises</td>\n",
       "      <td>7.6</td>\n",
       "      <td>9106</td>\n",
       "    </tr>\n",
       "    <tr>\n",
       "      <th>4</th>\n",
       "      <td>260000000</td>\n",
       "      <td>[{\"id\": 28, \"name\": \"Action\"}, {\"id\": 12, \"nam...</td>\n",
       "      <td>http://movies.disney.com/john-carter</td>\n",
       "      <td>49529</td>\n",
       "      <td>[{\"id\": 818, \"name\": \"based on novel\"}, {\"id\":...</td>\n",
       "      <td>en</td>\n",
       "      <td>John Carter</td>\n",
       "      <td>John Carter is a war-weary, former military ca...</td>\n",
       "      <td>43.926995</td>\n",
       "      <td>[{\"name\": \"Walt Disney Pictures\", \"id\": 2}]</td>\n",
       "      <td>[{\"iso_3166_1\": \"US\", \"name\": \"United States o...</td>\n",
       "      <td>7/3/2012</td>\n",
       "      <td>284139100</td>\n",
       "      <td>132.0</td>\n",
       "      <td>[{\"iso_639_1\": \"en\", \"name\": \"English\"}]</td>\n",
       "      <td>Released</td>\n",
       "      <td>Lost in our world, found in another.</td>\n",
       "      <td>John Carter</td>\n",
       "      <td>6.1</td>\n",
       "      <td>2124</td>\n",
       "    </tr>\n",
       "  </tbody>\n",
       "</table>\n",
       "</div>"
      ],
      "text/plain": [
       "      budget                                             genres  \\\n",
       "0  237000000  [{\"id\": 28, \"name\": \"Action\"}, {\"id\": 12, \"nam...   \n",
       "1  300000000  [{\"id\": 12, \"name\": \"Adventure\"}, {\"id\": 14, \"...   \n",
       "2  245000000  [{\"id\": 28, \"name\": \"Action\"}, {\"id\": 12, \"nam...   \n",
       "3  250000000  [{\"id\": 28, \"name\": \"Action\"}, {\"id\": 80, \"nam...   \n",
       "4  260000000  [{\"id\": 28, \"name\": \"Action\"}, {\"id\": 12, \"nam...   \n",
       "\n",
       "                                       homepage      id  \\\n",
       "0                   http://www.avatarmovie.com/   19995   \n",
       "1  http://disney.go.com/disneypictures/pirates/     285   \n",
       "2   http://www.sonypictures.com/movies/spectre/  206647   \n",
       "3            http://www.thedarkknightrises.com/   49026   \n",
       "4          http://movies.disney.com/john-carter   49529   \n",
       "\n",
       "                                            keywords original_language  \\\n",
       "0  [{\"id\": 1463, \"name\": \"culture clash\"}, {\"id\":...                en   \n",
       "1  [{\"id\": 270, \"name\": \"ocean\"}, {\"id\": 726, \"na...                en   \n",
       "2  [{\"id\": 470, \"name\": \"spy\"}, {\"id\": 818, \"name...                en   \n",
       "3  [{\"id\": 849, \"name\": \"dc comics\"}, {\"id\": 853,...                en   \n",
       "4  [{\"id\": 818, \"name\": \"based on novel\"}, {\"id\":...                en   \n",
       "\n",
       "                             original_title  \\\n",
       "0                                    Avatar   \n",
       "1  Pirates of the Caribbean: At World's End   \n",
       "2                                   Spectre   \n",
       "3                     The Dark Knight Rises   \n",
       "4                               John Carter   \n",
       "\n",
       "                                            overview  popularity  \\\n",
       "0  In the 22nd century, a paraplegic Marine is di...  150.437577   \n",
       "1  Captain Barbossa, long believed to be dead, ha...  139.082615   \n",
       "2  A cryptic message from Bond’s past sends him o...  107.376788   \n",
       "3  Following the death of District Attorney Harve...  112.312950   \n",
       "4  John Carter is a war-weary, former military ca...   43.926995   \n",
       "\n",
       "                                production_companies  \\\n",
       "0  [{\"name\": \"Ingenious Film Partners\", \"id\": 289...   \n",
       "1  [{\"name\": \"Walt Disney Pictures\", \"id\": 2}, {\"...   \n",
       "2  [{\"name\": \"Columbia Pictures\", \"id\": 5}, {\"nam...   \n",
       "3  [{\"name\": \"Legendary Pictures\", \"id\": 923}, {\"...   \n",
       "4        [{\"name\": \"Walt Disney Pictures\", \"id\": 2}]   \n",
       "\n",
       "                                production_countries release_date     revenue  \\\n",
       "0  [{\"iso_3166_1\": \"US\", \"name\": \"United States o...   10/12/2009  2787965087   \n",
       "1  [{\"iso_3166_1\": \"US\", \"name\": \"United States o...   19-05-2007   961000000   \n",
       "2  [{\"iso_3166_1\": \"GB\", \"name\": \"United Kingdom\"...   26-10-2015   880674609   \n",
       "3  [{\"iso_3166_1\": \"US\", \"name\": \"United States o...   16-07-2012  1084939099   \n",
       "4  [{\"iso_3166_1\": \"US\", \"name\": \"United States o...     7/3/2012   284139100   \n",
       "\n",
       "   runtime                                   spoken_languages    status  \\\n",
       "0    162.0  [{\"iso_639_1\": \"en\", \"name\": \"English\"}, {\"iso...  Released   \n",
       "1    169.0           [{\"iso_639_1\": \"en\", \"name\": \"English\"}]  Released   \n",
       "2    148.0  [{\"iso_639_1\": \"fr\", \"name\": \"Fran\\u00e7ais\"},...  Released   \n",
       "3    165.0           [{\"iso_639_1\": \"en\", \"name\": \"English\"}]  Released   \n",
       "4    132.0           [{\"iso_639_1\": \"en\", \"name\": \"English\"}]  Released   \n",
       "\n",
       "                                          tagline  \\\n",
       "0                     Enter the World of Pandora.   \n",
       "1  At the end of the world, the adventure begins.   \n",
       "2                           A Plan No One Escapes   \n",
       "3                                 The Legend Ends   \n",
       "4            Lost in our world, found in another.   \n",
       "\n",
       "                                      title  vote_average  vote_count  \n",
       "0                                    Avatar           7.2       11800  \n",
       "1  Pirates of the Caribbean: At World's End           6.9        4500  \n",
       "2                                   Spectre           6.3        4466  \n",
       "3                     The Dark Knight Rises           7.6        9106  \n",
       "4                               John Carter           6.1        2124  "
      ]
     },
     "execution_count": 3,
     "metadata": {},
     "output_type": "execute_result"
    }
   ],
   "source": [
    "df.head()"
   ]
  },
  {
   "cell_type": "markdown",
   "id": "4ffa9cc0",
   "metadata": {},
   "source": [
    "#### Reading the bottom 5 rows"
   ]
  },
  {
   "cell_type": "code",
   "execution_count": 4,
   "id": "edd4a885",
   "metadata": {},
   "outputs": [
    {
     "data": {
      "text/html": [
       "<div>\n",
       "<style scoped>\n",
       "    .dataframe tbody tr th:only-of-type {\n",
       "        vertical-align: middle;\n",
       "    }\n",
       "\n",
       "    .dataframe tbody tr th {\n",
       "        vertical-align: top;\n",
       "    }\n",
       "\n",
       "    .dataframe thead th {\n",
       "        text-align: right;\n",
       "    }\n",
       "</style>\n",
       "<table border=\"1\" class=\"dataframe\">\n",
       "  <thead>\n",
       "    <tr style=\"text-align: right;\">\n",
       "      <th></th>\n",
       "      <th>budget</th>\n",
       "      <th>genres</th>\n",
       "      <th>homepage</th>\n",
       "      <th>id</th>\n",
       "      <th>keywords</th>\n",
       "      <th>original_language</th>\n",
       "      <th>original_title</th>\n",
       "      <th>overview</th>\n",
       "      <th>popularity</th>\n",
       "      <th>production_companies</th>\n",
       "      <th>production_countries</th>\n",
       "      <th>release_date</th>\n",
       "      <th>revenue</th>\n",
       "      <th>runtime</th>\n",
       "      <th>spoken_languages</th>\n",
       "      <th>status</th>\n",
       "      <th>tagline</th>\n",
       "      <th>title</th>\n",
       "      <th>vote_average</th>\n",
       "      <th>vote_count</th>\n",
       "    </tr>\n",
       "  </thead>\n",
       "  <tbody>\n",
       "    <tr>\n",
       "      <th>4798</th>\n",
       "      <td>220000</td>\n",
       "      <td>[{\"id\": 28, \"name\": \"Action\"}, {\"id\": 80, \"nam...</td>\n",
       "      <td>NaN</td>\n",
       "      <td>9367</td>\n",
       "      <td>[{\"id\": 5616, \"name\": \"united states\\u2013mexi...</td>\n",
       "      <td>es</td>\n",
       "      <td>El Mariachi</td>\n",
       "      <td>El Mariachi just wants to play his guitar and ...</td>\n",
       "      <td>14.269792</td>\n",
       "      <td>[{\"name\": \"Columbia Pictures\", \"id\": 5}]</td>\n",
       "      <td>[{\"iso_3166_1\": \"MX\", \"name\": \"Mexico\"}, {\"iso...</td>\n",
       "      <td>4/9/1992</td>\n",
       "      <td>2040920</td>\n",
       "      <td>81.0</td>\n",
       "      <td>[{\"iso_639_1\": \"es\", \"name\": \"Espa\\u00f1ol\"}]</td>\n",
       "      <td>Released</td>\n",
       "      <td>He didn't come looking for trouble, but troubl...</td>\n",
       "      <td>El Mariachi</td>\n",
       "      <td>6.6</td>\n",
       "      <td>238</td>\n",
       "    </tr>\n",
       "    <tr>\n",
       "      <th>4799</th>\n",
       "      <td>9000</td>\n",
       "      <td>[{\"id\": 35, \"name\": \"Comedy\"}, {\"id\": 10749, \"...</td>\n",
       "      <td>NaN</td>\n",
       "      <td>72766</td>\n",
       "      <td>[]</td>\n",
       "      <td>en</td>\n",
       "      <td>Newlyweds</td>\n",
       "      <td>A newlywed couple's honeymoon is upended by th...</td>\n",
       "      <td>0.642552</td>\n",
       "      <td>[]</td>\n",
       "      <td>[]</td>\n",
       "      <td>26-12-2011</td>\n",
       "      <td>0</td>\n",
       "      <td>85.0</td>\n",
       "      <td>[]</td>\n",
       "      <td>Released</td>\n",
       "      <td>A newlywed couple's honeymoon is upended by th...</td>\n",
       "      <td>Newlyweds</td>\n",
       "      <td>5.9</td>\n",
       "      <td>5</td>\n",
       "    </tr>\n",
       "    <tr>\n",
       "      <th>4800</th>\n",
       "      <td>0</td>\n",
       "      <td>[{\"id\": 35, \"name\": \"Comedy\"}, {\"id\": 18, \"nam...</td>\n",
       "      <td>http://www.hallmarkchannel.com/signedsealeddel...</td>\n",
       "      <td>231617</td>\n",
       "      <td>[{\"id\": 248, \"name\": \"date\"}, {\"id\": 699, \"nam...</td>\n",
       "      <td>en</td>\n",
       "      <td>Signed, Sealed, Delivered</td>\n",
       "      <td>\"Signed, Sealed, Delivered\" introduces a dedic...</td>\n",
       "      <td>1.444476</td>\n",
       "      <td>[{\"name\": \"Front Street Pictures\", \"id\": 3958}...</td>\n",
       "      <td>[{\"iso_3166_1\": \"US\", \"name\": \"United States o...</td>\n",
       "      <td>13-10-2013</td>\n",
       "      <td>0</td>\n",
       "      <td>120.0</td>\n",
       "      <td>[{\"iso_639_1\": \"en\", \"name\": \"English\"}]</td>\n",
       "      <td>Released</td>\n",
       "      <td>NaN</td>\n",
       "      <td>Signed, Sealed, Delivered</td>\n",
       "      <td>7.0</td>\n",
       "      <td>6</td>\n",
       "    </tr>\n",
       "    <tr>\n",
       "      <th>4801</th>\n",
       "      <td>0</td>\n",
       "      <td>[]</td>\n",
       "      <td>http://shanghaicalling.com/</td>\n",
       "      <td>126186</td>\n",
       "      <td>[]</td>\n",
       "      <td>en</td>\n",
       "      <td>Shanghai Calling</td>\n",
       "      <td>When ambitious New York attorney Sam is sent t...</td>\n",
       "      <td>0.857008</td>\n",
       "      <td>[]</td>\n",
       "      <td>[{\"iso_3166_1\": \"US\", \"name\": \"United States o...</td>\n",
       "      <td>3/5/2012</td>\n",
       "      <td>0</td>\n",
       "      <td>98.0</td>\n",
       "      <td>[{\"iso_639_1\": \"en\", \"name\": \"English\"}]</td>\n",
       "      <td>Released</td>\n",
       "      <td>A New Yorker in Shanghai</td>\n",
       "      <td>Shanghai Calling</td>\n",
       "      <td>5.7</td>\n",
       "      <td>7</td>\n",
       "    </tr>\n",
       "    <tr>\n",
       "      <th>4802</th>\n",
       "      <td>0</td>\n",
       "      <td>[{\"id\": 99, \"name\": \"Documentary\"}]</td>\n",
       "      <td>NaN</td>\n",
       "      <td>25975</td>\n",
       "      <td>[{\"id\": 1523, \"name\": \"obsession\"}, {\"id\": 224...</td>\n",
       "      <td>en</td>\n",
       "      <td>My Date with Drew</td>\n",
       "      <td>Ever since the second grade when he first saw ...</td>\n",
       "      <td>1.929883</td>\n",
       "      <td>[{\"name\": \"rusty bear entertainment\", \"id\": 87...</td>\n",
       "      <td>[{\"iso_3166_1\": \"US\", \"name\": \"United States o...</td>\n",
       "      <td>5/8/2005</td>\n",
       "      <td>0</td>\n",
       "      <td>90.0</td>\n",
       "      <td>[{\"iso_639_1\": \"en\", \"name\": \"English\"}]</td>\n",
       "      <td>Released</td>\n",
       "      <td>NaN</td>\n",
       "      <td>My Date with Drew</td>\n",
       "      <td>6.3</td>\n",
       "      <td>16</td>\n",
       "    </tr>\n",
       "  </tbody>\n",
       "</table>\n",
       "</div>"
      ],
      "text/plain": [
       "      budget                                             genres  \\\n",
       "4798  220000  [{\"id\": 28, \"name\": \"Action\"}, {\"id\": 80, \"nam...   \n",
       "4799    9000  [{\"id\": 35, \"name\": \"Comedy\"}, {\"id\": 10749, \"...   \n",
       "4800       0  [{\"id\": 35, \"name\": \"Comedy\"}, {\"id\": 18, \"nam...   \n",
       "4801       0                                                 []   \n",
       "4802       0                [{\"id\": 99, \"name\": \"Documentary\"}]   \n",
       "\n",
       "                                               homepage      id  \\\n",
       "4798                                                NaN    9367   \n",
       "4799                                                NaN   72766   \n",
       "4800  http://www.hallmarkchannel.com/signedsealeddel...  231617   \n",
       "4801                        http://shanghaicalling.com/  126186   \n",
       "4802                                                NaN   25975   \n",
       "\n",
       "                                               keywords original_language  \\\n",
       "4798  [{\"id\": 5616, \"name\": \"united states\\u2013mexi...                es   \n",
       "4799                                                 []                en   \n",
       "4800  [{\"id\": 248, \"name\": \"date\"}, {\"id\": 699, \"nam...                en   \n",
       "4801                                                 []                en   \n",
       "4802  [{\"id\": 1523, \"name\": \"obsession\"}, {\"id\": 224...                en   \n",
       "\n",
       "                 original_title  \\\n",
       "4798                El Mariachi   \n",
       "4799                  Newlyweds   \n",
       "4800  Signed, Sealed, Delivered   \n",
       "4801           Shanghai Calling   \n",
       "4802          My Date with Drew   \n",
       "\n",
       "                                               overview  popularity  \\\n",
       "4798  El Mariachi just wants to play his guitar and ...   14.269792   \n",
       "4799  A newlywed couple's honeymoon is upended by th...    0.642552   \n",
       "4800  \"Signed, Sealed, Delivered\" introduces a dedic...    1.444476   \n",
       "4801  When ambitious New York attorney Sam is sent t...    0.857008   \n",
       "4802  Ever since the second grade when he first saw ...    1.929883   \n",
       "\n",
       "                                   production_companies  \\\n",
       "4798           [{\"name\": \"Columbia Pictures\", \"id\": 5}]   \n",
       "4799                                                 []   \n",
       "4800  [{\"name\": \"Front Street Pictures\", \"id\": 3958}...   \n",
       "4801                                                 []   \n",
       "4802  [{\"name\": \"rusty bear entertainment\", \"id\": 87...   \n",
       "\n",
       "                                   production_countries release_date  revenue  \\\n",
       "4798  [{\"iso_3166_1\": \"MX\", \"name\": \"Mexico\"}, {\"iso...     4/9/1992  2040920   \n",
       "4799                                                 []   26-12-2011        0   \n",
       "4800  [{\"iso_3166_1\": \"US\", \"name\": \"United States o...   13-10-2013        0   \n",
       "4801  [{\"iso_3166_1\": \"US\", \"name\": \"United States o...     3/5/2012        0   \n",
       "4802  [{\"iso_3166_1\": \"US\", \"name\": \"United States o...     5/8/2005        0   \n",
       "\n",
       "      runtime                               spoken_languages    status  \\\n",
       "4798     81.0  [{\"iso_639_1\": \"es\", \"name\": \"Espa\\u00f1ol\"}]  Released   \n",
       "4799     85.0                                             []  Released   \n",
       "4800    120.0       [{\"iso_639_1\": \"en\", \"name\": \"English\"}]  Released   \n",
       "4801     98.0       [{\"iso_639_1\": \"en\", \"name\": \"English\"}]  Released   \n",
       "4802     90.0       [{\"iso_639_1\": \"en\", \"name\": \"English\"}]  Released   \n",
       "\n",
       "                                                tagline  \\\n",
       "4798  He didn't come looking for trouble, but troubl...   \n",
       "4799  A newlywed couple's honeymoon is upended by th...   \n",
       "4800                                                NaN   \n",
       "4801                           A New Yorker in Shanghai   \n",
       "4802                                                NaN   \n",
       "\n",
       "                          title  vote_average  vote_count  \n",
       "4798                El Mariachi           6.6         238  \n",
       "4799                  Newlyweds           5.9           5  \n",
       "4800  Signed, Sealed, Delivered           7.0           6  \n",
       "4801           Shanghai Calling           5.7           7  \n",
       "4802          My Date with Drew           6.3          16  "
      ]
     },
     "execution_count": 4,
     "metadata": {},
     "output_type": "execute_result"
    }
   ],
   "source": [
    "df.tail()"
   ]
  },
  {
   "cell_type": "markdown",
   "id": "f9ac4fd2",
   "metadata": {},
   "source": [
    "### Number of rows and columns "
   ]
  },
  {
   "cell_type": "code",
   "execution_count": 5,
   "id": "d5afdff4",
   "metadata": {},
   "outputs": [
    {
     "data": {
      "text/plain": [
       "(4803, 20)"
      ]
     },
     "execution_count": 5,
     "metadata": {},
     "output_type": "execute_result"
    }
   ],
   "source": [
    "df.shape"
   ]
  },
  {
   "cell_type": "markdown",
   "id": "9f5da392",
   "metadata": {},
   "source": [
    "### Display the names of all the columns"
   ]
  },
  {
   "cell_type": "code",
   "execution_count": 6,
   "id": "d67c38b7",
   "metadata": {},
   "outputs": [
    {
     "data": {
      "text/plain": [
       "Index(['budget', 'genres', 'homepage', 'id', 'keywords', 'original_language',\n",
       "       'original_title', 'overview', 'popularity', 'production_companies',\n",
       "       'production_countries', 'release_date', 'revenue', 'runtime',\n",
       "       'spoken_languages', 'status', 'tagline', 'title', 'vote_average',\n",
       "       'vote_count'],\n",
       "      dtype='object')"
      ]
     },
     "execution_count": 6,
     "metadata": {},
     "output_type": "execute_result"
    }
   ],
   "source": [
    "df.columns"
   ]
  },
  {
   "cell_type": "markdown",
   "id": "8c82b316",
   "metadata": {},
   "source": [
    "### Displaying the dataset information"
   ]
  },
  {
   "cell_type": "code",
   "execution_count": 7,
   "id": "5eacbeee",
   "metadata": {},
   "outputs": [
    {
     "name": "stdout",
     "output_type": "stream",
     "text": [
      "<class 'pandas.core.frame.DataFrame'>\n",
      "RangeIndex: 4803 entries, 0 to 4802\n",
      "Data columns (total 20 columns):\n",
      " #   Column                Non-Null Count  Dtype  \n",
      "---  ------                --------------  -----  \n",
      " 0   budget                4803 non-null   int64  \n",
      " 1   genres                4803 non-null   object \n",
      " 2   homepage              1712 non-null   object \n",
      " 3   id                    4803 non-null   int64  \n",
      " 4   keywords              4803 non-null   object \n",
      " 5   original_language     4803 non-null   object \n",
      " 6   original_title        4803 non-null   object \n",
      " 7   overview              4800 non-null   object \n",
      " 8   popularity            4803 non-null   float64\n",
      " 9   production_companies  4803 non-null   object \n",
      " 10  production_countries  4803 non-null   object \n",
      " 11  release_date          4802 non-null   object \n",
      " 12  revenue               4803 non-null   int64  \n",
      " 13  runtime               4801 non-null   float64\n",
      " 14  spoken_languages      4803 non-null   object \n",
      " 15  status                4803 non-null   object \n",
      " 16  tagline               3959 non-null   object \n",
      " 17  title                 4803 non-null   object \n",
      " 18  vote_average          4803 non-null   float64\n",
      " 19  vote_count            4803 non-null   int64  \n",
      "dtypes: float64(3), int64(4), object(13)\n",
      "memory usage: 750.6+ KB\n"
     ]
    }
   ],
   "source": [
    "df.info()"
   ]
  },
  {
   "cell_type": "markdown",
   "id": "d3c506e7",
   "metadata": {},
   "source": [
    "### Display the titles and genres of the first 50 movies from the dataset "
   ]
  },
  {
   "cell_type": "markdown",
   "id": "e6fdd320",
   "metadata": {},
   "source": [
    "#### Extracting Genre name from genres json format"
   ]
  },
  {
   "cell_type": "code",
   "execution_count": 8,
   "id": "1591ea45",
   "metadata": {},
   "outputs": [],
   "source": [
    "import json"
   ]
  },
  {
   "cell_type": "code",
   "execution_count": 9,
   "id": "05473203",
   "metadata": {},
   "outputs": [],
   "source": [
    "df['genres'] = df['genres'].apply(json.loads)"
   ]
  },
  {
   "cell_type": "code",
   "execution_count": 10,
   "id": "48020a1f",
   "metadata": {},
   "outputs": [],
   "source": [
    "df['genre'] = df['genres'].apply(lambda x: [i['name'] for i in x])"
   ]
  },
  {
   "cell_type": "code",
   "execution_count": 11,
   "id": "a2be454e",
   "metadata": {},
   "outputs": [
    {
     "data": {
      "text/html": [
       "<div>\n",
       "<style scoped>\n",
       "    .dataframe tbody tr th:only-of-type {\n",
       "        vertical-align: middle;\n",
       "    }\n",
       "\n",
       "    .dataframe tbody tr th {\n",
       "        vertical-align: top;\n",
       "    }\n",
       "\n",
       "    .dataframe thead th {\n",
       "        text-align: right;\n",
       "    }\n",
       "</style>\n",
       "<table border=\"1\" class=\"dataframe\">\n",
       "  <thead>\n",
       "    <tr style=\"text-align: right;\">\n",
       "      <th></th>\n",
       "      <th>original_title</th>\n",
       "      <th>genre</th>\n",
       "    </tr>\n",
       "  </thead>\n",
       "  <tbody>\n",
       "    <tr>\n",
       "      <th>0</th>\n",
       "      <td>Avatar</td>\n",
       "      <td>[Action, Adventure, Fantasy, Science Fiction]</td>\n",
       "    </tr>\n",
       "    <tr>\n",
       "      <th>1</th>\n",
       "      <td>Pirates of the Caribbean: At World's End</td>\n",
       "      <td>[Adventure, Fantasy, Action]</td>\n",
       "    </tr>\n",
       "    <tr>\n",
       "      <th>2</th>\n",
       "      <td>Spectre</td>\n",
       "      <td>[Action, Adventure, Crime]</td>\n",
       "    </tr>\n",
       "    <tr>\n",
       "      <th>3</th>\n",
       "      <td>The Dark Knight Rises</td>\n",
       "      <td>[Action, Crime, Drama, Thriller]</td>\n",
       "    </tr>\n",
       "    <tr>\n",
       "      <th>4</th>\n",
       "      <td>John Carter</td>\n",
       "      <td>[Action, Adventure, Science Fiction]</td>\n",
       "    </tr>\n",
       "    <tr>\n",
       "      <th>5</th>\n",
       "      <td>Spider-Man 3</td>\n",
       "      <td>[Fantasy, Action, Adventure]</td>\n",
       "    </tr>\n",
       "    <tr>\n",
       "      <th>6</th>\n",
       "      <td>Tangled</td>\n",
       "      <td>[Animation, Family]</td>\n",
       "    </tr>\n",
       "    <tr>\n",
       "      <th>7</th>\n",
       "      <td>Avengers: Age of Ultron</td>\n",
       "      <td>[Action, Adventure, Science Fiction]</td>\n",
       "    </tr>\n",
       "    <tr>\n",
       "      <th>8</th>\n",
       "      <td>Harry Potter and the Half-Blood Prince</td>\n",
       "      <td>[Adventure, Fantasy, Family]</td>\n",
       "    </tr>\n",
       "    <tr>\n",
       "      <th>9</th>\n",
       "      <td>Batman v Superman: Dawn of Justice</td>\n",
       "      <td>[Action, Adventure, Fantasy]</td>\n",
       "    </tr>\n",
       "    <tr>\n",
       "      <th>10</th>\n",
       "      <td>Superman Returns</td>\n",
       "      <td>[Adventure, Fantasy, Action, Science Fiction]</td>\n",
       "    </tr>\n",
       "    <tr>\n",
       "      <th>11</th>\n",
       "      <td>Quantum of Solace</td>\n",
       "      <td>[Adventure, Action, Thriller, Crime]</td>\n",
       "    </tr>\n",
       "    <tr>\n",
       "      <th>12</th>\n",
       "      <td>Pirates of the Caribbean: Dead Man's Chest</td>\n",
       "      <td>[Adventure, Fantasy, Action]</td>\n",
       "    </tr>\n",
       "    <tr>\n",
       "      <th>13</th>\n",
       "      <td>The Lone Ranger</td>\n",
       "      <td>[Action, Adventure, Western]</td>\n",
       "    </tr>\n",
       "    <tr>\n",
       "      <th>14</th>\n",
       "      <td>Man of Steel</td>\n",
       "      <td>[Action, Adventure, Fantasy, Science Fiction]</td>\n",
       "    </tr>\n",
       "    <tr>\n",
       "      <th>15</th>\n",
       "      <td>The Chronicles of Narnia: Prince Caspian</td>\n",
       "      <td>[Adventure, Family, Fantasy]</td>\n",
       "    </tr>\n",
       "    <tr>\n",
       "      <th>16</th>\n",
       "      <td>The Avengers</td>\n",
       "      <td>[Science Fiction, Action, Adventure]</td>\n",
       "    </tr>\n",
       "    <tr>\n",
       "      <th>17</th>\n",
       "      <td>Pirates of the Caribbean: On Stranger Tides</td>\n",
       "      <td>[Adventure, Action, Fantasy]</td>\n",
       "    </tr>\n",
       "    <tr>\n",
       "      <th>18</th>\n",
       "      <td>Men in Black 3</td>\n",
       "      <td>[Action, Comedy, Science Fiction]</td>\n",
       "    </tr>\n",
       "    <tr>\n",
       "      <th>19</th>\n",
       "      <td>The Hobbit: The Battle of the Five Armies</td>\n",
       "      <td>[Action, Adventure, Fantasy]</td>\n",
       "    </tr>\n",
       "    <tr>\n",
       "      <th>20</th>\n",
       "      <td>The Amazing Spider-Man</td>\n",
       "      <td>[Action, Adventure, Fantasy]</td>\n",
       "    </tr>\n",
       "    <tr>\n",
       "      <th>21</th>\n",
       "      <td>Robin Hood</td>\n",
       "      <td>[Action, Adventure]</td>\n",
       "    </tr>\n",
       "    <tr>\n",
       "      <th>22</th>\n",
       "      <td>The Hobbit: The Desolation of Smaug</td>\n",
       "      <td>[Adventure, Fantasy]</td>\n",
       "    </tr>\n",
       "    <tr>\n",
       "      <th>23</th>\n",
       "      <td>The Golden Compass</td>\n",
       "      <td>[Adventure, Fantasy]</td>\n",
       "    </tr>\n",
       "    <tr>\n",
       "      <th>24</th>\n",
       "      <td>King Kong</td>\n",
       "      <td>[Adventure, Drama, Action]</td>\n",
       "    </tr>\n",
       "    <tr>\n",
       "      <th>25</th>\n",
       "      <td>Titanic</td>\n",
       "      <td>[Drama, Romance, Thriller]</td>\n",
       "    </tr>\n",
       "    <tr>\n",
       "      <th>26</th>\n",
       "      <td>Captain America: Civil War</td>\n",
       "      <td>[Adventure, Action, Science Fiction]</td>\n",
       "    </tr>\n",
       "    <tr>\n",
       "      <th>27</th>\n",
       "      <td>Battleship</td>\n",
       "      <td>[Thriller, Action, Adventure, Science Fiction]</td>\n",
       "    </tr>\n",
       "    <tr>\n",
       "      <th>28</th>\n",
       "      <td>Jurassic World</td>\n",
       "      <td>[Action, Adventure, Science Fiction, Thriller]</td>\n",
       "    </tr>\n",
       "    <tr>\n",
       "      <th>29</th>\n",
       "      <td>Skyfall</td>\n",
       "      <td>[Action, Adventure, Thriller]</td>\n",
       "    </tr>\n",
       "    <tr>\n",
       "      <th>30</th>\n",
       "      <td>Spider-Man 2</td>\n",
       "      <td>[Action, Adventure, Fantasy]</td>\n",
       "    </tr>\n",
       "    <tr>\n",
       "      <th>31</th>\n",
       "      <td>Iron Man 3</td>\n",
       "      <td>[Action, Adventure, Science Fiction]</td>\n",
       "    </tr>\n",
       "    <tr>\n",
       "      <th>32</th>\n",
       "      <td>Alice in Wonderland</td>\n",
       "      <td>[Family, Fantasy, Adventure]</td>\n",
       "    </tr>\n",
       "    <tr>\n",
       "      <th>33</th>\n",
       "      <td>X-Men: The Last Stand</td>\n",
       "      <td>[Adventure, Action, Science Fiction, Thriller]</td>\n",
       "    </tr>\n",
       "    <tr>\n",
       "      <th>34</th>\n",
       "      <td>Monsters University</td>\n",
       "      <td>[Animation, Family]</td>\n",
       "    </tr>\n",
       "    <tr>\n",
       "      <th>35</th>\n",
       "      <td>Transformers: Revenge of the Fallen</td>\n",
       "      <td>[Science Fiction, Action, Adventure]</td>\n",
       "    </tr>\n",
       "    <tr>\n",
       "      <th>36</th>\n",
       "      <td>Transformers: Age of Extinction</td>\n",
       "      <td>[Science Fiction, Action, Adventure]</td>\n",
       "    </tr>\n",
       "    <tr>\n",
       "      <th>37</th>\n",
       "      <td>Oz: The Great and Powerful</td>\n",
       "      <td>[Fantasy, Adventure, Family]</td>\n",
       "    </tr>\n",
       "    <tr>\n",
       "      <th>38</th>\n",
       "      <td>The Amazing Spider-Man 2</td>\n",
       "      <td>[Action, Adventure, Fantasy]</td>\n",
       "    </tr>\n",
       "    <tr>\n",
       "      <th>39</th>\n",
       "      <td>TRON: Legacy</td>\n",
       "      <td>[Adventure, Action, Science Fiction]</td>\n",
       "    </tr>\n",
       "    <tr>\n",
       "      <th>40</th>\n",
       "      <td>Cars 2</td>\n",
       "      <td>[Animation, Family, Adventure, Comedy]</td>\n",
       "    </tr>\n",
       "    <tr>\n",
       "      <th>41</th>\n",
       "      <td>Green Lantern</td>\n",
       "      <td>[Adventure, Action, Thriller, Science Fiction]</td>\n",
       "    </tr>\n",
       "    <tr>\n",
       "      <th>42</th>\n",
       "      <td>Toy Story 3</td>\n",
       "      <td>[Animation, Family, Comedy]</td>\n",
       "    </tr>\n",
       "    <tr>\n",
       "      <th>43</th>\n",
       "      <td>Terminator Salvation</td>\n",
       "      <td>[Action, Science Fiction, Thriller]</td>\n",
       "    </tr>\n",
       "    <tr>\n",
       "      <th>44</th>\n",
       "      <td>Furious 7</td>\n",
       "      <td>[Action]</td>\n",
       "    </tr>\n",
       "    <tr>\n",
       "      <th>45</th>\n",
       "      <td>World War Z</td>\n",
       "      <td>[Action, Drama, Horror, Science Fiction, Thril...</td>\n",
       "    </tr>\n",
       "    <tr>\n",
       "      <th>46</th>\n",
       "      <td>X-Men: Days of Future Past</td>\n",
       "      <td>[Action, Adventure, Fantasy, Science Fiction]</td>\n",
       "    </tr>\n",
       "    <tr>\n",
       "      <th>47</th>\n",
       "      <td>Star Trek Into Darkness</td>\n",
       "      <td>[Action, Adventure, Science Fiction]</td>\n",
       "    </tr>\n",
       "    <tr>\n",
       "      <th>48</th>\n",
       "      <td>Jack the Giant Slayer</td>\n",
       "      <td>[Action, Family, Fantasy]</td>\n",
       "    </tr>\n",
       "    <tr>\n",
       "      <th>49</th>\n",
       "      <td>The Great Gatsby</td>\n",
       "      <td>[Drama, Romance]</td>\n",
       "    </tr>\n",
       "  </tbody>\n",
       "</table>\n",
       "</div>"
      ],
      "text/plain": [
       "                                 original_title  \\\n",
       "0                                        Avatar   \n",
       "1      Pirates of the Caribbean: At World's End   \n",
       "2                                       Spectre   \n",
       "3                         The Dark Knight Rises   \n",
       "4                                   John Carter   \n",
       "5                                  Spider-Man 3   \n",
       "6                                       Tangled   \n",
       "7                       Avengers: Age of Ultron   \n",
       "8        Harry Potter and the Half-Blood Prince   \n",
       "9            Batman v Superman: Dawn of Justice   \n",
       "10                             Superman Returns   \n",
       "11                            Quantum of Solace   \n",
       "12   Pirates of the Caribbean: Dead Man's Chest   \n",
       "13                              The Lone Ranger   \n",
       "14                                 Man of Steel   \n",
       "15     The Chronicles of Narnia: Prince Caspian   \n",
       "16                                 The Avengers   \n",
       "17  Pirates of the Caribbean: On Stranger Tides   \n",
       "18                               Men in Black 3   \n",
       "19    The Hobbit: The Battle of the Five Armies   \n",
       "20                       The Amazing Spider-Man   \n",
       "21                                   Robin Hood   \n",
       "22          The Hobbit: The Desolation of Smaug   \n",
       "23                           The Golden Compass   \n",
       "24                                    King Kong   \n",
       "25                                      Titanic   \n",
       "26                   Captain America: Civil War   \n",
       "27                                   Battleship   \n",
       "28                               Jurassic World   \n",
       "29                                      Skyfall   \n",
       "30                                 Spider-Man 2   \n",
       "31                                   Iron Man 3   \n",
       "32                          Alice in Wonderland   \n",
       "33                        X-Men: The Last Stand   \n",
       "34                          Monsters University   \n",
       "35          Transformers: Revenge of the Fallen   \n",
       "36              Transformers: Age of Extinction   \n",
       "37                   Oz: The Great and Powerful   \n",
       "38                     The Amazing Spider-Man 2   \n",
       "39                                 TRON: Legacy   \n",
       "40                                       Cars 2   \n",
       "41                                Green Lantern   \n",
       "42                                  Toy Story 3   \n",
       "43                         Terminator Salvation   \n",
       "44                                    Furious 7   \n",
       "45                                  World War Z   \n",
       "46                   X-Men: Days of Future Past   \n",
       "47                      Star Trek Into Darkness   \n",
       "48                        Jack the Giant Slayer   \n",
       "49                             The Great Gatsby   \n",
       "\n",
       "                                                genre  \n",
       "0       [Action, Adventure, Fantasy, Science Fiction]  \n",
       "1                        [Adventure, Fantasy, Action]  \n",
       "2                          [Action, Adventure, Crime]  \n",
       "3                    [Action, Crime, Drama, Thriller]  \n",
       "4                [Action, Adventure, Science Fiction]  \n",
       "5                        [Fantasy, Action, Adventure]  \n",
       "6                                 [Animation, Family]  \n",
       "7                [Action, Adventure, Science Fiction]  \n",
       "8                        [Adventure, Fantasy, Family]  \n",
       "9                        [Action, Adventure, Fantasy]  \n",
       "10      [Adventure, Fantasy, Action, Science Fiction]  \n",
       "11               [Adventure, Action, Thriller, Crime]  \n",
       "12                       [Adventure, Fantasy, Action]  \n",
       "13                       [Action, Adventure, Western]  \n",
       "14      [Action, Adventure, Fantasy, Science Fiction]  \n",
       "15                       [Adventure, Family, Fantasy]  \n",
       "16               [Science Fiction, Action, Adventure]  \n",
       "17                       [Adventure, Action, Fantasy]  \n",
       "18                  [Action, Comedy, Science Fiction]  \n",
       "19                       [Action, Adventure, Fantasy]  \n",
       "20                       [Action, Adventure, Fantasy]  \n",
       "21                                [Action, Adventure]  \n",
       "22                               [Adventure, Fantasy]  \n",
       "23                               [Adventure, Fantasy]  \n",
       "24                         [Adventure, Drama, Action]  \n",
       "25                         [Drama, Romance, Thriller]  \n",
       "26               [Adventure, Action, Science Fiction]  \n",
       "27     [Thriller, Action, Adventure, Science Fiction]  \n",
       "28     [Action, Adventure, Science Fiction, Thriller]  \n",
       "29                      [Action, Adventure, Thriller]  \n",
       "30                       [Action, Adventure, Fantasy]  \n",
       "31               [Action, Adventure, Science Fiction]  \n",
       "32                       [Family, Fantasy, Adventure]  \n",
       "33     [Adventure, Action, Science Fiction, Thriller]  \n",
       "34                                [Animation, Family]  \n",
       "35               [Science Fiction, Action, Adventure]  \n",
       "36               [Science Fiction, Action, Adventure]  \n",
       "37                       [Fantasy, Adventure, Family]  \n",
       "38                       [Action, Adventure, Fantasy]  \n",
       "39               [Adventure, Action, Science Fiction]  \n",
       "40             [Animation, Family, Adventure, Comedy]  \n",
       "41     [Adventure, Action, Thriller, Science Fiction]  \n",
       "42                        [Animation, Family, Comedy]  \n",
       "43                [Action, Science Fiction, Thriller]  \n",
       "44                                           [Action]  \n",
       "45  [Action, Drama, Horror, Science Fiction, Thril...  \n",
       "46      [Action, Adventure, Fantasy, Science Fiction]  \n",
       "47               [Action, Adventure, Science Fiction]  \n",
       "48                          [Action, Family, Fantasy]  \n",
       "49                                   [Drama, Romance]  "
      ]
     },
     "execution_count": 11,
     "metadata": {},
     "output_type": "execute_result"
    }
   ],
   "source": [
    "# Display the titles and genres of the first 50 movies from the dataset\n",
    "df[['original_title','genre']].head(50)"
   ]
  },
  {
   "cell_type": "markdown",
   "id": "18944a2d",
   "metadata": {},
   "source": [
    "# Task 2 :"
   ]
  },
  {
   "cell_type": "markdown",
   "id": "d2632eac",
   "metadata": {},
   "source": [
    "## LEVEL 1 Analysis"
   ]
  },
  {
   "cell_type": "markdown",
   "id": "df8e1f34",
   "metadata": {},
   "source": [
    "### Separating Categorical and Numerical Variables"
   ]
  },
  {
   "cell_type": "code",
   "execution_count": 12,
   "id": "573f9685",
   "metadata": {},
   "outputs": [
    {
     "name": "stdout",
     "output_type": "stream",
     "text": [
      "catgeorical           continous\n",
      "--------------------  ------------\n",
      "genres                budget\n",
      "homepage              id\n",
      "keywords              popularity\n",
      "original_language     revenue\n",
      "original_title        runtime\n",
      "overview              vote_average\n",
      "production_companies  vote_count\n",
      "production_countries\n",
      "release_date\n",
      "spoken_languages\n",
      "status\n",
      "tagline\n",
      "title\n",
      "genre\n"
     ]
    }
   ],
   "source": [
    "def seperate_data_types(df):\n",
    "    categorical = []\n",
    "    continous = []\n",
    "    for column in df.columns:\n",
    "        if df[column].dtype == 'object':\n",
    "            categorical.append(column)\n",
    "        else:\n",
    "            continous.append(column)\n",
    "    return categorical , continous\n",
    "categorical , continous = seperate_data_types(df)\n",
    "table = [categorical ,continous]\n",
    "print(tabulate({'Categorical':categorical , 'Continous':continous},headers = [\"catgeorical\",\"continous\"]))        "
   ]
  },
  {
   "cell_type": "markdown",
   "id": "7a8894d2",
   "metadata": {},
   "source": [
    "### Checking if there are null values in any columns"
   ]
  },
  {
   "cell_type": "code",
   "execution_count": 13,
   "id": "1a2a0e42",
   "metadata": {},
   "outputs": [
    {
     "data": {
      "text/plain": [
       "budget                     0\n",
       "genres                     0\n",
       "homepage                3091\n",
       "id                         0\n",
       "keywords                   0\n",
       "original_language          0\n",
       "original_title             0\n",
       "overview                   3\n",
       "popularity                 0\n",
       "production_companies       0\n",
       "production_countries       0\n",
       "release_date               1\n",
       "revenue                    0\n",
       "runtime                    2\n",
       "spoken_languages           0\n",
       "status                     0\n",
       "tagline                  844\n",
       "title                      0\n",
       "vote_average               0\n",
       "vote_count                 0\n",
       "genre                      0\n",
       "dtype: int64"
      ]
     },
     "execution_count": 13,
     "metadata": {},
     "output_type": "execute_result"
    }
   ],
   "source": [
    "df.isnull().sum()"
   ]
  },
  {
   "cell_type": "code",
   "execution_count": 14,
   "id": "2abf2e0a",
   "metadata": {},
   "outputs": [
    {
     "data": {
      "text/plain": [
       "'http://www.missionimpossible.com/'"
      ]
     },
     "execution_count": 14,
     "metadata": {},
     "output_type": "execute_result"
    }
   ],
   "source": [
    "homepage_mode = df['homepage'].mode()[0]\n",
    "homepage_mode"
   ]
  },
  {
   "cell_type": "code",
   "execution_count": 15,
   "id": "958154d3",
   "metadata": {},
   "outputs": [
    {
     "data": {
      "text/plain": [
       "'1/1/2006'"
      ]
     },
     "execution_count": 15,
     "metadata": {},
     "output_type": "execute_result"
    }
   ],
   "source": [
    "release_date_mode = df['release_date'].mode()[0]\n",
    "release_date_mode"
   ]
  },
  {
   "cell_type": "code",
   "execution_count": 16,
   "id": "3384dc57",
   "metadata": {},
   "outputs": [
    {
     "data": {
      "text/plain": [
       "106.87585919600083"
      ]
     },
     "execution_count": 16,
     "metadata": {},
     "output_type": "execute_result"
    }
   ],
   "source": [
    "runtime_mean = df['runtime'].mean()\n",
    "runtime_mean"
   ]
  },
  {
   "cell_type": "code",
   "execution_count": 17,
   "id": "3767f119",
   "metadata": {},
   "outputs": [
    {
     "data": {
      "text/plain": [
       "'Based on a true story.'"
      ]
     },
     "execution_count": 17,
     "metadata": {},
     "output_type": "execute_result"
    }
   ],
   "source": [
    "tagline_mode = df['tagline'].mode()[0]\n",
    "tagline_mode"
   ]
  },
  {
   "cell_type": "markdown",
   "id": "adb320c2",
   "metadata": {},
   "source": [
    "#### perform Null value treatment"
   ]
  },
  {
   "cell_type": "code",
   "execution_count": 18,
   "id": "9b75e93e",
   "metadata": {},
   "outputs": [],
   "source": [
    "df['homepage'].fillna(homepage_mode,inplace=True)"
   ]
  },
  {
   "cell_type": "code",
   "execution_count": 19,
   "id": "e461b13a",
   "metadata": {},
   "outputs": [],
   "source": [
    "df.dropna(subset=['overview'],inplace=True)"
   ]
  },
  {
   "cell_type": "code",
   "execution_count": 20,
   "id": "0ecdb2ab",
   "metadata": {},
   "outputs": [],
   "source": [
    "df.dropna(subset=['release_date'],inplace=True)"
   ]
  },
  {
   "cell_type": "code",
   "execution_count": 21,
   "id": "60c0ef6f",
   "metadata": {},
   "outputs": [],
   "source": [
    "df.dropna(subset=['runtime'],inplace=True)"
   ]
  },
  {
   "cell_type": "code",
   "execution_count": 22,
   "id": "a720658f",
   "metadata": {},
   "outputs": [],
   "source": [
    "df['tagline'].fillna(tagline_mode,inplace=True)"
   ]
  },
  {
   "cell_type": "code",
   "execution_count": 23,
   "id": "4f25acb9",
   "metadata": {},
   "outputs": [
    {
     "data": {
      "text/plain": [
       "budget                  0\n",
       "genres                  0\n",
       "homepage                0\n",
       "id                      0\n",
       "keywords                0\n",
       "original_language       0\n",
       "original_title          0\n",
       "overview                0\n",
       "popularity              0\n",
       "production_companies    0\n",
       "production_countries    0\n",
       "release_date            0\n",
       "revenue                 0\n",
       "runtime                 0\n",
       "spoken_languages        0\n",
       "status                  0\n",
       "tagline                 0\n",
       "title                   0\n",
       "vote_average            0\n",
       "vote_count              0\n",
       "genre                   0\n",
       "dtype: int64"
      ]
     },
     "execution_count": 23,
     "metadata": {},
     "output_type": "execute_result"
    }
   ],
   "source": [
    "df.isnull().sum()"
   ]
  },
  {
   "cell_type": "code",
   "execution_count": null,
   "id": "5315cc46",
   "metadata": {},
   "outputs": [],
   "source": []
  },
  {
   "cell_type": "markdown",
   "id": "b624395e",
   "metadata": {},
   "source": [
    "# Task 3 : "
   ]
  },
  {
   "cell_type": "markdown",
   "id": "ac13e2a9",
   "metadata": {},
   "source": [
    "### Display the movie categories that have a budget greater than $220,000."
   ]
  },
  {
   "cell_type": "code",
   "execution_count": 24,
   "id": "bddd2909",
   "metadata": {},
   "outputs": [
    {
     "data": {
      "text/html": [
       "<div>\n",
       "<style scoped>\n",
       "    .dataframe tbody tr th:only-of-type {\n",
       "        vertical-align: middle;\n",
       "    }\n",
       "\n",
       "    .dataframe tbody tr th {\n",
       "        vertical-align: top;\n",
       "    }\n",
       "\n",
       "    .dataframe thead th {\n",
       "        text-align: right;\n",
       "    }\n",
       "</style>\n",
       "<table border=\"1\" class=\"dataframe\">\n",
       "  <thead>\n",
       "    <tr style=\"text-align: right;\">\n",
       "      <th></th>\n",
       "      <th>genre</th>\n",
       "    </tr>\n",
       "  </thead>\n",
       "  <tbody>\n",
       "    <tr>\n",
       "      <th>0</th>\n",
       "      <td>[Action, Adventure, Fantasy, Science Fiction]</td>\n",
       "    </tr>\n",
       "    <tr>\n",
       "      <th>1</th>\n",
       "      <td>[Adventure, Fantasy, Action]</td>\n",
       "    </tr>\n",
       "    <tr>\n",
       "      <th>2</th>\n",
       "      <td>[Action, Adventure, Crime]</td>\n",
       "    </tr>\n",
       "    <tr>\n",
       "      <th>3</th>\n",
       "      <td>[Action, Crime, Drama, Thriller]</td>\n",
       "    </tr>\n",
       "    <tr>\n",
       "      <th>4</th>\n",
       "      <td>[Action, Adventure, Science Fiction]</td>\n",
       "    </tr>\n",
       "    <tr>\n",
       "      <th>...</th>\n",
       "      <td>...</td>\n",
       "    </tr>\n",
       "    <tr>\n",
       "      <th>4680</th>\n",
       "      <td>[Crime, Horror, Thriller]</td>\n",
       "    </tr>\n",
       "    <tr>\n",
       "      <th>4682</th>\n",
       "      <td>[Horror]</td>\n",
       "    </tr>\n",
       "    <tr>\n",
       "      <th>4720</th>\n",
       "      <td>[Drama]</td>\n",
       "    </tr>\n",
       "    <tr>\n",
       "      <th>4758</th>\n",
       "      <td>[Thriller, Science Fiction]</td>\n",
       "    </tr>\n",
       "    <tr>\n",
       "      <th>4770</th>\n",
       "      <td>[Drama, Comedy]</td>\n",
       "    </tr>\n",
       "  </tbody>\n",
       "</table>\n",
       "<p>3682 rows × 1 columns</p>\n",
       "</div>"
      ],
      "text/plain": [
       "                                              genre\n",
       "0     [Action, Adventure, Fantasy, Science Fiction]\n",
       "1                      [Adventure, Fantasy, Action]\n",
       "2                        [Action, Adventure, Crime]\n",
       "3                  [Action, Crime, Drama, Thriller]\n",
       "4              [Action, Adventure, Science Fiction]\n",
       "...                                             ...\n",
       "4680                      [Crime, Horror, Thriller]\n",
       "4682                                       [Horror]\n",
       "4720                                        [Drama]\n",
       "4758                    [Thriller, Science Fiction]\n",
       "4770                                [Drama, Comedy]\n",
       "\n",
       "[3682 rows x 1 columns]"
      ]
     },
     "execution_count": 24,
     "metadata": {},
     "output_type": "execute_result"
    }
   ],
   "source": [
    "df[['genre']][(df['budget']>220000)]"
   ]
  },
  {
   "cell_type": "markdown",
   "id": "e3ff4011",
   "metadata": {},
   "source": [
    "# Task 4 :"
   ]
  },
  {
   "cell_type": "markdown",
   "id": "36ef530c",
   "metadata": {},
   "source": [
    "### Display the movie categories where the revenue is greater than $961,000,000."
   ]
  },
  {
   "cell_type": "code",
   "execution_count": 25,
   "id": "0eb1e864",
   "metadata": {},
   "outputs": [
    {
     "data": {
      "text/html": [
       "<div>\n",
       "<style scoped>\n",
       "    .dataframe tbody tr th:only-of-type {\n",
       "        vertical-align: middle;\n",
       "    }\n",
       "\n",
       "    .dataframe tbody tr th {\n",
       "        vertical-align: top;\n",
       "    }\n",
       "\n",
       "    .dataframe thead th {\n",
       "        text-align: right;\n",
       "    }\n",
       "</style>\n",
       "<table border=\"1\" class=\"dataframe\">\n",
       "  <thead>\n",
       "    <tr style=\"text-align: right;\">\n",
       "      <th></th>\n",
       "      <th>genre</th>\n",
       "    </tr>\n",
       "  </thead>\n",
       "  <tbody>\n",
       "    <tr>\n",
       "      <th>0</th>\n",
       "      <td>[Action, Adventure, Fantasy, Science Fiction]</td>\n",
       "    </tr>\n",
       "    <tr>\n",
       "      <th>3</th>\n",
       "      <td>[Action, Crime, Drama, Thriller]</td>\n",
       "    </tr>\n",
       "    <tr>\n",
       "      <th>7</th>\n",
       "      <td>[Action, Adventure, Science Fiction]</td>\n",
       "    </tr>\n",
       "    <tr>\n",
       "      <th>12</th>\n",
       "      <td>[Adventure, Fantasy, Action]</td>\n",
       "    </tr>\n",
       "    <tr>\n",
       "      <th>16</th>\n",
       "      <td>[Science Fiction, Action, Adventure]</td>\n",
       "    </tr>\n",
       "    <tr>\n",
       "      <th>17</th>\n",
       "      <td>[Adventure, Action, Fantasy]</td>\n",
       "    </tr>\n",
       "    <tr>\n",
       "      <th>25</th>\n",
       "      <td>[Drama, Romance, Thriller]</td>\n",
       "    </tr>\n",
       "    <tr>\n",
       "      <th>26</th>\n",
       "      <td>[Adventure, Action, Science Fiction]</td>\n",
       "    </tr>\n",
       "    <tr>\n",
       "      <th>28</th>\n",
       "      <td>[Action, Adventure, Science Fiction, Thriller]</td>\n",
       "    </tr>\n",
       "    <tr>\n",
       "      <th>29</th>\n",
       "      <td>[Action, Adventure, Thriller]</td>\n",
       "    </tr>\n",
       "    <tr>\n",
       "      <th>31</th>\n",
       "      <td>[Action, Adventure, Science Fiction]</td>\n",
       "    </tr>\n",
       "    <tr>\n",
       "      <th>32</th>\n",
       "      <td>[Family, Fantasy, Adventure]</td>\n",
       "    </tr>\n",
       "    <tr>\n",
       "      <th>36</th>\n",
       "      <td>[Science Fiction, Action, Adventure]</td>\n",
       "    </tr>\n",
       "    <tr>\n",
       "      <th>42</th>\n",
       "      <td>[Animation, Family, Comedy]</td>\n",
       "    </tr>\n",
       "    <tr>\n",
       "      <th>44</th>\n",
       "      <td>[Action]</td>\n",
       "    </tr>\n",
       "    <tr>\n",
       "      <th>52</th>\n",
       "      <td>[Action, Science Fiction, Adventure]</td>\n",
       "    </tr>\n",
       "    <tr>\n",
       "      <th>65</th>\n",
       "      <td>[Drama, Action, Crime, Thriller]</td>\n",
       "    </tr>\n",
       "    <tr>\n",
       "      <th>78</th>\n",
       "      <td>[Family, Adventure, Drama, Fantasy]</td>\n",
       "    </tr>\n",
       "    <tr>\n",
       "      <th>98</th>\n",
       "      <td>[Adventure, Fantasy, Action]</td>\n",
       "    </tr>\n",
       "    <tr>\n",
       "      <th>124</th>\n",
       "      <td>[Animation, Adventure, Family]</td>\n",
       "    </tr>\n",
       "    <tr>\n",
       "      <th>197</th>\n",
       "      <td>[Adventure, Fantasy, Family]</td>\n",
       "    </tr>\n",
       "    <tr>\n",
       "      <th>329</th>\n",
       "      <td>[Adventure, Fantasy, Action]</td>\n",
       "    </tr>\n",
       "    <tr>\n",
       "      <th>506</th>\n",
       "      <td>[Animation, Comedy, Family]</td>\n",
       "    </tr>\n",
       "    <tr>\n",
       "      <th>546</th>\n",
       "      <td>[Family, Animation, Adventure, Comedy]</td>\n",
       "    </tr>\n",
       "  </tbody>\n",
       "</table>\n",
       "</div>"
      ],
      "text/plain": [
       "                                              genre\n",
       "0     [Action, Adventure, Fantasy, Science Fiction]\n",
       "3                  [Action, Crime, Drama, Thriller]\n",
       "7              [Action, Adventure, Science Fiction]\n",
       "12                     [Adventure, Fantasy, Action]\n",
       "16             [Science Fiction, Action, Adventure]\n",
       "17                     [Adventure, Action, Fantasy]\n",
       "25                       [Drama, Romance, Thriller]\n",
       "26             [Adventure, Action, Science Fiction]\n",
       "28   [Action, Adventure, Science Fiction, Thriller]\n",
       "29                    [Action, Adventure, Thriller]\n",
       "31             [Action, Adventure, Science Fiction]\n",
       "32                     [Family, Fantasy, Adventure]\n",
       "36             [Science Fiction, Action, Adventure]\n",
       "42                      [Animation, Family, Comedy]\n",
       "44                                         [Action]\n",
       "52             [Action, Science Fiction, Adventure]\n",
       "65                 [Drama, Action, Crime, Thriller]\n",
       "78              [Family, Adventure, Drama, Fantasy]\n",
       "98                     [Adventure, Fantasy, Action]\n",
       "124                  [Animation, Adventure, Family]\n",
       "197                    [Adventure, Fantasy, Family]\n",
       "329                    [Adventure, Fantasy, Action]\n",
       "506                     [Animation, Comedy, Family]\n",
       "546          [Family, Animation, Adventure, Comedy]"
      ]
     },
     "execution_count": 25,
     "metadata": {},
     "output_type": "execute_result"
    }
   ],
   "source": [
    "df[['genre']][(df['revenue']>961000000)]"
   ]
  },
  {
   "cell_type": "markdown",
   "id": "f9089a21",
   "metadata": {},
   "source": [
    "# Task 5 "
   ]
  },
  {
   "cell_type": "markdown",
   "id": "332385de",
   "metadata": {},
   "source": [
    "### In the dataset,there are some movies for which the budget and revenue columns have the value 0, which means unknown values. Remove the rows with the value 0 from both the budget and revenue columns. "
   ]
  },
  {
   "cell_type": "code",
   "execution_count": 26,
   "id": "8fbf42ce",
   "metadata": {},
   "outputs": [],
   "source": [
    "# Remove rows with 0 values in both 'budget' and 'revenue' columns\n",
    "df = df[(df['budget'] != 0) & (df['revenue'] != 0)]\n",
    "\n",
    "# Reset the index of the DataFrame\n",
    "df.reset_index(drop=True, inplace=True)"
   ]
  },
  {
   "cell_type": "code",
   "execution_count": 27,
   "id": "67c07584",
   "metadata": {},
   "outputs": [
    {
     "name": "stdout",
     "output_type": "stream",
     "text": [
      "Number of rows with 0 in 'budget' column :  0\n",
      "Number of rows with 0 in 'revenue' column :  0\n"
     ]
    }
   ],
   "source": [
    "# Checking the number of rows where 'budget' and 'revenue' is 0\n",
    "num_zero_budget = len(df[df['budget'] == 0])\n",
    "num_zero_revenue = len(df[df['revenue'] == 0])\n",
    "\n",
    "\n",
    "print(\"Number of rows with 0 in 'budget' column : \", num_zero_budget)\n",
    "print(\"Number of rows with 0 in 'revenue' column : \", num_zero_revenue)"
   ]
  },
  {
   "cell_type": "markdown",
   "id": "e4be98e6",
   "metadata": {},
   "source": [
    "# Task 6"
   ]
  },
  {
   "cell_type": "markdown",
   "id": "4c43a64e",
   "metadata": {},
   "source": [
    "### List the top 10 movies with the highest revenues and the top 10 movies with the least budget."
   ]
  },
  {
   "cell_type": "code",
   "execution_count": 28,
   "id": "502448a9",
   "metadata": {},
   "outputs": [
    {
     "data": {
      "text/html": [
       "<div>\n",
       "<style scoped>\n",
       "    .dataframe tbody tr th:only-of-type {\n",
       "        vertical-align: middle;\n",
       "    }\n",
       "\n",
       "    .dataframe tbody tr th {\n",
       "        vertical-align: top;\n",
       "    }\n",
       "\n",
       "    .dataframe thead th {\n",
       "        text-align: right;\n",
       "    }\n",
       "</style>\n",
       "<table border=\"1\" class=\"dataframe\">\n",
       "  <thead>\n",
       "    <tr style=\"text-align: right;\">\n",
       "      <th></th>\n",
       "      <th>original_title</th>\n",
       "      <th>revenue</th>\n",
       "    </tr>\n",
       "  </thead>\n",
       "  <tbody>\n",
       "    <tr>\n",
       "      <th>0</th>\n",
       "      <td>Avatar</td>\n",
       "      <td>2787965087</td>\n",
       "    </tr>\n",
       "    <tr>\n",
       "      <th>25</th>\n",
       "      <td>Titanic</td>\n",
       "      <td>1845034188</td>\n",
       "    </tr>\n",
       "    <tr>\n",
       "      <th>16</th>\n",
       "      <td>The Avengers</td>\n",
       "      <td>1519557910</td>\n",
       "    </tr>\n",
       "    <tr>\n",
       "      <th>28</th>\n",
       "      <td>Jurassic World</td>\n",
       "      <td>1513528810</td>\n",
       "    </tr>\n",
       "    <tr>\n",
       "      <th>44</th>\n",
       "      <td>Furious 7</td>\n",
       "      <td>1506249360</td>\n",
       "    </tr>\n",
       "    <tr>\n",
       "      <th>7</th>\n",
       "      <td>Avengers: Age of Ultron</td>\n",
       "      <td>1405403694</td>\n",
       "    </tr>\n",
       "    <tr>\n",
       "      <th>123</th>\n",
       "      <td>Frozen</td>\n",
       "      <td>1274219009</td>\n",
       "    </tr>\n",
       "    <tr>\n",
       "      <th>31</th>\n",
       "      <td>Iron Man 3</td>\n",
       "      <td>1215439994</td>\n",
       "    </tr>\n",
       "    <tr>\n",
       "      <th>525</th>\n",
       "      <td>Minions</td>\n",
       "      <td>1156730962</td>\n",
       "    </tr>\n",
       "    <tr>\n",
       "      <th>26</th>\n",
       "      <td>Captain America: Civil War</td>\n",
       "      <td>1153304495</td>\n",
       "    </tr>\n",
       "  </tbody>\n",
       "</table>\n",
       "</div>"
      ],
      "text/plain": [
       "                 original_title     revenue\n",
       "0                        Avatar  2787965087\n",
       "25                      Titanic  1845034188\n",
       "16                 The Avengers  1519557910\n",
       "28               Jurassic World  1513528810\n",
       "44                    Furious 7  1506249360\n",
       "7       Avengers: Age of Ultron  1405403694\n",
       "123                      Frozen  1274219009\n",
       "31                   Iron Man 3  1215439994\n",
       "525                     Minions  1156730962\n",
       "26   Captain America: Civil War  1153304495"
      ]
     },
     "execution_count": 28,
     "metadata": {},
     "output_type": "execute_result"
    }
   ],
   "source": [
    "sort_df1 = df.sort_values('revenue',ascending = False)\n",
    "s_movies = sort_df1.iloc[0:10,[6,12]]\n",
    "s_movies"
   ]
  },
  {
   "cell_type": "code",
   "execution_count": 61,
   "id": "55aa3755",
   "metadata": {},
   "outputs": [
    {
     "data": {
      "text/html": [
       "<div>\n",
       "<style scoped>\n",
       "    .dataframe tbody tr th:only-of-type {\n",
       "        vertical-align: middle;\n",
       "    }\n",
       "\n",
       "    .dataframe tbody tr th {\n",
       "        vertical-align: top;\n",
       "    }\n",
       "\n",
       "    .dataframe thead th {\n",
       "        text-align: right;\n",
       "    }\n",
       "</style>\n",
       "<table border=\"1\" class=\"dataframe\">\n",
       "  <thead>\n",
       "    <tr style=\"text-align: right;\">\n",
       "      <th></th>\n",
       "      <th>budget</th>\n",
       "      <th>original_title</th>\n",
       "      <th>revenue</th>\n",
       "      <th>genre</th>\n",
       "    </tr>\n",
       "  </thead>\n",
       "  <tbody>\n",
       "    <tr>\n",
       "      <th>0</th>\n",
       "      <td>237000000</td>\n",
       "      <td>Avatar</td>\n",
       "      <td>2787965087</td>\n",
       "      <td>[Action, Adventure, Fantasy, Science Fiction]</td>\n",
       "    </tr>\n",
       "    <tr>\n",
       "      <th>25</th>\n",
       "      <td>200000000</td>\n",
       "      <td>Titanic</td>\n",
       "      <td>1845034188</td>\n",
       "      <td>[Drama, Romance, Thriller]</td>\n",
       "    </tr>\n",
       "    <tr>\n",
       "      <th>16</th>\n",
       "      <td>220000000</td>\n",
       "      <td>The Avengers</td>\n",
       "      <td>1519557910</td>\n",
       "      <td>[Science Fiction, Action, Adventure]</td>\n",
       "    </tr>\n",
       "    <tr>\n",
       "      <th>28</th>\n",
       "      <td>150000000</td>\n",
       "      <td>Jurassic World</td>\n",
       "      <td>1513528810</td>\n",
       "      <td>[Action, Adventure, Science Fiction, Thriller]</td>\n",
       "    </tr>\n",
       "    <tr>\n",
       "      <th>44</th>\n",
       "      <td>190000000</td>\n",
       "      <td>Furious 7</td>\n",
       "      <td>1506249360</td>\n",
       "      <td>[Action]</td>\n",
       "    </tr>\n",
       "    <tr>\n",
       "      <th>7</th>\n",
       "      <td>280000000</td>\n",
       "      <td>Avengers: Age of Ultron</td>\n",
       "      <td>1405403694</td>\n",
       "      <td>[Action, Adventure, Science Fiction]</td>\n",
       "    </tr>\n",
       "    <tr>\n",
       "      <th>123</th>\n",
       "      <td>150000000</td>\n",
       "      <td>Frozen</td>\n",
       "      <td>1274219009</td>\n",
       "      <td>[Animation, Adventure, Family]</td>\n",
       "    </tr>\n",
       "    <tr>\n",
       "      <th>31</th>\n",
       "      <td>200000000</td>\n",
       "      <td>Iron Man 3</td>\n",
       "      <td>1215439994</td>\n",
       "      <td>[Action, Adventure, Science Fiction]</td>\n",
       "    </tr>\n",
       "    <tr>\n",
       "      <th>525</th>\n",
       "      <td>74000000</td>\n",
       "      <td>Minions</td>\n",
       "      <td>1156730962</td>\n",
       "      <td>[Family, Animation, Adventure, Comedy]</td>\n",
       "    </tr>\n",
       "    <tr>\n",
       "      <th>26</th>\n",
       "      <td>250000000</td>\n",
       "      <td>Captain America: Civil War</td>\n",
       "      <td>1153304495</td>\n",
       "      <td>[Adventure, Action, Science Fiction]</td>\n",
       "    </tr>\n",
       "  </tbody>\n",
       "</table>\n",
       "</div>"
      ],
      "text/plain": [
       "        budget              original_title     revenue  \\\n",
       "0    237000000                      Avatar  2787965087   \n",
       "25   200000000                     Titanic  1845034188   \n",
       "16   220000000                The Avengers  1519557910   \n",
       "28   150000000              Jurassic World  1513528810   \n",
       "44   190000000                   Furious 7  1506249360   \n",
       "7    280000000     Avengers: Age of Ultron  1405403694   \n",
       "123  150000000                      Frozen  1274219009   \n",
       "31   200000000                  Iron Man 3  1215439994   \n",
       "525   74000000                     Minions  1156730962   \n",
       "26   250000000  Captain America: Civil War  1153304495   \n",
       "\n",
       "                                              genre  \n",
       "0     [Action, Adventure, Fantasy, Science Fiction]  \n",
       "25                       [Drama, Romance, Thriller]  \n",
       "16             [Science Fiction, Action, Adventure]  \n",
       "28   [Action, Adventure, Science Fiction, Thriller]  \n",
       "44                                         [Action]  \n",
       "7              [Action, Adventure, Science Fiction]  \n",
       "123                  [Animation, Adventure, Family]  \n",
       "31             [Action, Adventure, Science Fiction]  \n",
       "525          [Family, Animation, Adventure, Comedy]  \n",
       "26             [Adventure, Action, Science Fiction]  "
      ]
     },
     "execution_count": 61,
     "metadata": {},
     "output_type": "execute_result"
    }
   ],
   "source": [
    "# extra - Avatar movie budget , revenue and genre\n",
    "s_movies = sort_df1.iloc[0:10,[0,6,12,20]]\n",
    "s_movies"
   ]
  },
  {
   "cell_type": "code",
   "execution_count": null,
   "id": "a248be4a",
   "metadata": {},
   "outputs": [],
   "source": []
  },
  {
   "cell_type": "code",
   "execution_count": 29,
   "id": "3f34fa43",
   "metadata": {},
   "outputs": [
    {
     "data": {
      "image/png": "[encoded data removed]",
      "text/plain": [
       "<Figure size 640x480 with 1 Axes>"
      ]
     },
     "metadata": {},
     "output_type": "display_data"
    }
   ],
   "source": [
    "s_movies.plot.barh(x='original_title', y='revenue')\n",
    "\n",
    "plt.xlabel('Revenue')\n",
    "plt.ylabel('Movie Title')\n",
    "plt.title('Top 10 Movies with highest revenues')\n",
    "\n",
    "plt.show()"
   ]
  },
  {
   "cell_type": "code",
   "execution_count": null,
   "id": "ad0d5d5b",
   "metadata": {},
   "outputs": [],
   "source": []
  },
  {
   "cell_type": "markdown",
   "id": "c8bdbff0",
   "metadata": {},
   "source": [
    "### List the top 10 movies with the least budget."
   ]
  },
  {
   "cell_type": "code",
   "execution_count": 62,
   "id": "39b7d83c",
   "metadata": {},
   "outputs": [
    {
     "data": {
      "text/html": [
       "<div>\n",
       "<style scoped>\n",
       "    .dataframe tbody tr th:only-of-type {\n",
       "        vertical-align: middle;\n",
       "    }\n",
       "\n",
       "    .dataframe tbody tr th {\n",
       "        vertical-align: top;\n",
       "    }\n",
       "\n",
       "    .dataframe thead th {\n",
       "        text-align: right;\n",
       "    }\n",
       "</style>\n",
       "<table border=\"1\" class=\"dataframe\">\n",
       "  <thead>\n",
       "    <tr style=\"text-align: right;\">\n",
       "      <th></th>\n",
       "      <th>original_title</th>\n",
       "      <th>budget</th>\n",
       "      <th>revenue</th>\n",
       "      <th>genre</th>\n",
       "    </tr>\n",
       "  </thead>\n",
       "  <tbody>\n",
       "    <tr>\n",
       "      <th>3050</th>\n",
       "      <td>Modern Times</td>\n",
       "      <td>1</td>\n",
       "      <td>8500000</td>\n",
       "      <td>[Drama, Comedy]</td>\n",
       "    </tr>\n",
       "    <tr>\n",
       "      <th>2775</th>\n",
       "      <td>A Farewell to Arms</td>\n",
       "      <td>4</td>\n",
       "      <td>25</td>\n",
       "      <td>[Drama, Romance, War]</td>\n",
       "    </tr>\n",
       "    <tr>\n",
       "      <th>2640</th>\n",
       "      <td>Split Second</td>\n",
       "      <td>7</td>\n",
       "      <td>5</td>\n",
       "      <td>[Thriller, Action, Horror, Science Fiction, Cr...</td>\n",
       "    </tr>\n",
       "    <tr>\n",
       "      <th>3149</th>\n",
       "      <td>The Prophecy</td>\n",
       "      <td>8</td>\n",
       "      <td>16</td>\n",
       "      <td>[Fantasy, Horror, Thriller]</td>\n",
       "    </tr>\n",
       "    <tr>\n",
       "      <th>2515</th>\n",
       "      <td>Hross í oss</td>\n",
       "      <td>10</td>\n",
       "      <td>11</td>\n",
       "      <td>[Drama, Romance, Comedy]</td>\n",
       "    </tr>\n",
       "    <tr>\n",
       "      <th>2516</th>\n",
       "      <td>Nurse 3-D</td>\n",
       "      <td>10</td>\n",
       "      <td>10000000</td>\n",
       "      <td>[Horror, Thriller]</td>\n",
       "    </tr>\n",
       "    <tr>\n",
       "      <th>2400</th>\n",
       "      <td>F.I.S.T.</td>\n",
       "      <td>11</td>\n",
       "      <td>11</td>\n",
       "      <td>[Drama, Action]</td>\n",
       "    </tr>\n",
       "    <tr>\n",
       "      <th>1693</th>\n",
       "      <td>Angela's Ashes</td>\n",
       "      <td>25</td>\n",
       "      <td>13</td>\n",
       "      <td>[Drama]</td>\n",
       "    </tr>\n",
       "    <tr>\n",
       "      <th>1578</th>\n",
       "      <td>The 51st State</td>\n",
       "      <td>28</td>\n",
       "      <td>14</td>\n",
       "      <td>[Thriller, Action, Comedy, Crime]</td>\n",
       "    </tr>\n",
       "    <tr>\n",
       "      <th>1413</th>\n",
       "      <td>Rugrats in Paris: The Movie</td>\n",
       "      <td>30</td>\n",
       "      <td>103</td>\n",
       "      <td>[Adventure, Animation, Comedy, Family]</td>\n",
       "    </tr>\n",
       "  </tbody>\n",
       "</table>\n",
       "</div>"
      ],
      "text/plain": [
       "                   original_title  budget   revenue  \\\n",
       "3050                 Modern Times       1   8500000   \n",
       "2775           A Farewell to Arms       4        25   \n",
       "2640                 Split Second       7         5   \n",
       "3149                 The Prophecy       8        16   \n",
       "2515                  Hross í oss      10        11   \n",
       "2516                    Nurse 3-D      10  10000000   \n",
       "2400                     F.I.S.T.      11        11   \n",
       "1693               Angela's Ashes      25        13   \n",
       "1578               The 51st State      28        14   \n",
       "1413  Rugrats in Paris: The Movie      30       103   \n",
       "\n",
       "                                                  genre  \n",
       "3050                                    [Drama, Comedy]  \n",
       "2775                              [Drama, Romance, War]  \n",
       "2640  [Thriller, Action, Horror, Science Fiction, Cr...  \n",
       "3149                        [Fantasy, Horror, Thriller]  \n",
       "2515                           [Drama, Romance, Comedy]  \n",
       "2516                                 [Horror, Thriller]  \n",
       "2400                                    [Drama, Action]  \n",
       "1693                                            [Drama]  \n",
       "1578                  [Thriller, Action, Comedy, Crime]  \n",
       "1413             [Adventure, Animation, Comedy, Family]  "
      ]
     },
     "execution_count": 62,
     "metadata": {},
     "output_type": "execute_result"
    }
   ],
   "source": [
    "sort_df2 = df.sort_values('budget',ascending = True)\n",
    "s_bud = sort_df2.iloc[0:10,[6,0,12,20]]\n",
    "s_bud"
   ]
  },
  {
   "cell_type": "code",
   "execution_count": null,
   "id": "8e9dd072",
   "metadata": {},
   "outputs": [],
   "source": [
    "# extra - Avatar movie budget , revenue and genre\n",
    "s_bud = sort_df2.iloc[0:10,[6,0]]\n",
    "s_bud"
   ]
  },
  {
   "cell_type": "code",
   "execution_count": null,
   "id": "8233e9b3",
   "metadata": {},
   "outputs": [],
   "source": []
  },
  {
   "cell_type": "code",
   "execution_count": 31,
   "id": "e9fd5bf4",
   "metadata": {},
   "outputs": [
    {
     "data": {
      "image/png": "[encoded data removed]",
      "text/plain": [
       "<Figure size 640x480 with 1 Axes>"
      ]
     },
     "metadata": {},
     "output_type": "display_data"
    }
   ],
   "source": [
    "s_bud.plot.barh(x='original_title', y='budget')\n",
    "\n",
    "plt.xlabel('Budget')\n",
    "plt.ylabel('Movie Title')\n",
    "plt.title('Top 10 Movies with Least Budget')\n",
    "\n",
    "plt.show()"
   ]
  },
  {
   "cell_type": "code",
   "execution_count": 32,
   "id": "8076c517",
   "metadata": {},
   "outputs": [
    {
     "data": {
      "image/png": "[encoded data removed]",
      "text/plain": [
       "<Figure size 1500x700 with 2 Axes>"
      ]
     },
     "metadata": {},
     "output_type": "display_data"
    }
   ],
   "source": [
    "# Relationship between Columns\n",
    "fig,ax = plt.subplots(figsize=(15,7))\n",
    "sns.heatmap(df.corr() , cbar=True , linewidth = 0.5, annot = True)\n",
    "plt.show()"
   ]
  },
  {
   "cell_type": "markdown",
   "id": "2e47fa28",
   "metadata": {},
   "source": [
    "# Task 7"
   ]
  },
  {
   "cell_type": "markdown",
   "id": "317217ac",
   "metadata": {},
   "source": [
    "### How are popularities of movies related with the movie budgets ? Are they correlated or totally uncorrelated with each other ? write the interpretation of your anaysis "
   ]
  },
  {
   "cell_type": "code",
   "execution_count": 33,
   "id": "9568c3fd",
   "metadata": {},
   "outputs": [
    {
     "data": {
      "image/png": "[encoded data removed]",
      "text/plain": [
       "<Figure size 640x480 with 1 Axes>"
      ]
     },
     "metadata": {},
     "output_type": "display_data"
    }
   ],
   "source": [
    "#Calculating Correlation Coefficient\n",
    "df_corr = df['budget'].corr(df['popularity'])\n",
    "\n",
    "#Showing relation among popularity & budget using Scatter plot\n",
    "\n",
    "plt.scatter(df['popularity'],df['budget'],color='orange',label=\"R= \" +str(df_corr))\n",
    "plt.title('Popularity vs. Budget')\n",
    "sns.regplot(data= df,x= \"popularity\",y='budget')\n",
    "plt.xlabel(\"Popularity\")\n",
    "plt.ylabel(\"Budget\")\n",
    "plt.legend()\n",
    "plt.show()"
   ]
  },
  {
   "cell_type": "markdown",
   "id": "2980d3df",
   "metadata": {},
   "source": [
    "# Interpretation : "
   ]
  },
  {
   "cell_type": "markdown",
   "id": "8c3088ff",
   "metadata": {},
   "source": [
    "* Correlation Co-efficient = 0.43\n",
    "* Popularities of movies Positive Co-related with the Budgets. means Popularity is increasing then Budget  is also increasing."
   ]
  },
  {
   "cell_type": "code",
   "execution_count": null,
   "id": "d8821358",
   "metadata": {},
   "outputs": [],
   "source": []
  },
  {
   "cell_type": "code",
   "execution_count": 34,
   "id": "aaf29b76",
   "metadata": {
    "scrolled": false
   },
   "outputs": [
    {
     "data": {
      "image/png": "[encoded data removed]",
      "text/plain": [
       "<Figure size 640x480 with 1 Axes>"
      ]
     },
     "metadata": {},
     "output_type": "display_data"
    }
   ],
   "source": [
    "#Calculating Correlation Coefficient\n",
    "df_corr = df['revenue'].corr(df['budget'])\n",
    "\n",
    "#Showing relation among revenue & budget using Scatter plot\n",
    "\n",
    "plt.scatter(df['revenue'],df['budget'],color='green',label=\"R= \" +str(df_corr))\n",
    "plt.title('Revenue vs. Budget')\n",
    "sns.regplot(data= df,x= \"revenue\",y='budget')\n",
    "plt.xlabel(\"Revenue\")\n",
    "plt.ylabel(\"Budget\")\n",
    "plt.legend()\n",
    "plt.show()"
   ]
  },
  {
   "cell_type": "code",
   "execution_count": null,
   "id": "4f0f8399",
   "metadata": {},
   "outputs": [],
   "source": []
  },
  {
   "cell_type": "markdown",
   "id": "f12fdc64",
   "metadata": {},
   "source": [
    "# Task 8"
   ]
  },
  {
   "cell_type": "markdown",
   "id": "860687ba",
   "metadata": {},
   "source": [
    "### Identify and display the names of all production companies along with the number of times they appear in the dataset."
   ]
  },
  {
   "cell_type": "code",
   "execution_count": 35,
   "id": "9fccff4f",
   "metadata": {},
   "outputs": [],
   "source": [
    "# filter out the data\n",
    "df = df[(df['production_companies'] != '[]')]\n",
    "\n",
    "# Reset the index of the DataFrame\n",
    "df.reset_index(drop=True, inplace=True)"
   ]
  },
  {
   "cell_type": "code",
   "execution_count": 36,
   "id": "7786d411",
   "metadata": {},
   "outputs": [],
   "source": [
    "df['production_companies'] = df['production_companies'].apply(json.loads)"
   ]
  },
  {
   "cell_type": "code",
   "execution_count": 37,
   "id": "fe0f27eb",
   "metadata": {},
   "outputs": [],
   "source": [
    "df['Production_Company'] = df['production_companies'].apply(lambda x: [i['name'] for i in x])"
   ]
  },
  {
   "cell_type": "code",
   "execution_count": 38,
   "id": "bb98c106",
   "metadata": {},
   "outputs": [
    {
     "data": {
      "text/plain": [
       "Warner Bros.                              280\n",
       "Universal Pictures                        273\n",
       "Paramount Pictures                        245\n",
       "Twentieth Century Fox Film Corporation    201\n",
       "Columbia Pictures                         167\n",
       "                                         ... \n",
       "HW Two                                      1\n",
       "Unfinished Films                            1\n",
       "Infinity Features Entertainment             1\n",
       "British Columbia Film                       1\n",
       "Daiei Studios                               1\n",
       "Name: Production_Company, Length: 3564, dtype: int64"
      ]
     },
     "execution_count": 38,
     "metadata": {},
     "output_type": "execute_result"
    }
   ],
   "source": [
    "# display the names of all production companies along with the number of times they appear \n",
    "df_companies = df['Production_Company'].explode().value_counts()\n",
    "df_companies"
   ]
  },
  {
   "cell_type": "code",
   "execution_count": null,
   "id": "4daf47b8",
   "metadata": {},
   "outputs": [],
   "source": []
  },
  {
   "cell_type": "markdown",
   "id": "83292309",
   "metadata": {},
   "source": [
    "# Task 9"
   ]
  },
  {
   "cell_type": "markdown",
   "id": "cc862727",
   "metadata": {},
   "source": [
    "### Display the names of the top 25 production companies based on the number of movies they have produced in descending order of the number of movies produced. "
   ]
  },
  {
   "cell_type": "code",
   "execution_count": 39,
   "id": "6e459c35",
   "metadata": {},
   "outputs": [
    {
     "data": {
      "text/plain": [
       "Warner Bros.                              280\n",
       "Universal Pictures                        273\n",
       "Paramount Pictures                        245\n",
       "Twentieth Century Fox Film Corporation    201\n",
       "Columbia Pictures                         167\n",
       "New Line Cinema                           142\n",
       "Relativity Media                          100\n",
       "Walt Disney Pictures                       96\n",
       "Touchstone Pictures                        93\n",
       "Metro-Goldwyn-Mayer (MGM)                  92\n",
       "Columbia Pictures Corporation              86\n",
       "Village Roadshow Pictures                  73\n",
       "Miramax Films                              67\n",
       "DreamWorks SKG                             67\n",
       "United Artists                             64\n",
       "Regency Enterprises                        59\n",
       "Dune Entertainment                         54\n",
       "TriStar Pictures                           50\n",
       "Lionsgate                                  49\n",
       "Canal+                                     48\n",
       "Summit Entertainment                       48\n",
       "Fox Searchlight Pictures                   47\n",
       "Amblin Entertainment                       47\n",
       "Fox 2000 Pictures                          43\n",
       "Working Title Films                        43\n",
       "Name: Production_Company, dtype: int64"
      ]
     },
     "execution_count": 39,
     "metadata": {},
     "output_type": "execute_result"
    }
   ],
   "source": [
    "df_companies.head(25)"
   ]
  },
  {
   "cell_type": "code",
   "execution_count": 40,
   "id": "fa98a3b9",
   "metadata": {},
   "outputs": [
    {
     "data": {
      "text/plain": [
       "Warner Bros.                              280\n",
       "Universal Pictures                        273\n",
       "Paramount Pictures                        245\n",
       "Twentieth Century Fox Film Corporation    201\n",
       "Columbia Pictures                         167\n",
       "New Line Cinema                           142\n",
       "Relativity Media                          100\n",
       "Walt Disney Pictures                       96\n",
       "Touchstone Pictures                        93\n",
       "Metro-Goldwyn-Mayer (MGM)                  92\n",
       "Columbia Pictures Corporation              86\n",
       "Village Roadshow Pictures                  73\n",
       "Miramax Films                              67\n",
       "DreamWorks SKG                             67\n",
       "United Artists                             64\n",
       "Regency Enterprises                        59\n",
       "Dune Entertainment                         54\n",
       "TriStar Pictures                           50\n",
       "Lionsgate                                  49\n",
       "Canal+                                     48\n",
       "Summit Entertainment                       48\n",
       "Fox Searchlight Pictures                   47\n",
       "Amblin Entertainment                       47\n",
       "Fox 2000 Pictures                          43\n",
       "Working Title Films                        43\n",
       "Name: Production_Company, dtype: int64"
      ]
     },
     "execution_count": 40,
     "metadata": {},
     "output_type": "execute_result"
    }
   ],
   "source": [
    "# Another method (nlargest)\n",
    "df_companies.nlargest(n=25)"
   ]
  },
  {
   "cell_type": "code",
   "execution_count": null,
   "id": "605f6337",
   "metadata": {},
   "outputs": [],
   "source": []
  },
  {
   "cell_type": "markdown",
   "id": "39cb373b",
   "metadata": {},
   "source": [
    "# Task 10"
   ]
  },
  {
   "cell_type": "markdown",
   "id": "24c68556",
   "metadata": {},
   "source": [
    "### Sort the data in descending order based on revenue and filter the top 500 movies. Find the measures of central tendency for the following column using the filtered data."
   ]
  },
  {
   "cell_type": "markdown",
   "id": "763463ab",
   "metadata": {},
   "source": [
    "1. budget\n",
    "2. revenue\n",
    "3. runtime"
   ]
  },
  {
   "cell_type": "markdown",
   "id": "1033a98f",
   "metadata": {},
   "source": [
    "### * Perform outlier analysis for the above three columns using box plots."
   ]
  },
  {
   "cell_type": "code",
   "execution_count": 41,
   "id": "4c69c820",
   "metadata": {},
   "outputs": [],
   "source": [
    "# sort the revenue in descending order \n",
    "sort_revenue = df.sort_values('revenue',ascending=False)"
   ]
  },
  {
   "cell_type": "code",
   "execution_count": 42,
   "id": "b5cf2bf3",
   "metadata": {},
   "outputs": [
    {
     "data": {
      "text/html": [
       "<div>\n",
       "<style scoped>\n",
       "    .dataframe tbody tr th:only-of-type {\n",
       "        vertical-align: middle;\n",
       "    }\n",
       "\n",
       "    .dataframe tbody tr th {\n",
       "        vertical-align: top;\n",
       "    }\n",
       "\n",
       "    .dataframe thead th {\n",
       "        text-align: right;\n",
       "    }\n",
       "</style>\n",
       "<table border=\"1\" class=\"dataframe\">\n",
       "  <thead>\n",
       "    <tr style=\"text-align: right;\">\n",
       "      <th></th>\n",
       "      <th>original_title</th>\n",
       "    </tr>\n",
       "  </thead>\n",
       "  <tbody>\n",
       "    <tr>\n",
       "      <th>0</th>\n",
       "      <td>Avatar</td>\n",
       "    </tr>\n",
       "    <tr>\n",
       "      <th>25</th>\n",
       "      <td>Titanic</td>\n",
       "    </tr>\n",
       "    <tr>\n",
       "      <th>16</th>\n",
       "      <td>The Avengers</td>\n",
       "    </tr>\n",
       "    <tr>\n",
       "      <th>28</th>\n",
       "      <td>Jurassic World</td>\n",
       "    </tr>\n",
       "    <tr>\n",
       "      <th>44</th>\n",
       "      <td>Furious 7</td>\n",
       "    </tr>\n",
       "    <tr>\n",
       "      <th>...</th>\n",
       "      <td>...</td>\n",
       "    </tr>\n",
       "    <tr>\n",
       "      <th>390</th>\n",
       "      <td>It's Complicated</td>\n",
       "    </tr>\n",
       "    <tr>\n",
       "      <th>1556</th>\n",
       "      <td>Knocked Up</td>\n",
       "    </tr>\n",
       "    <tr>\n",
       "      <th>669</th>\n",
       "      <td>The Prince of Egypt</td>\n",
       "    </tr>\n",
       "    <tr>\n",
       "      <th>687</th>\n",
       "      <td>Jack Reacher</td>\n",
       "    </tr>\n",
       "    <tr>\n",
       "      <th>684</th>\n",
       "      <td>Collateral</td>\n",
       "    </tr>\n",
       "  </tbody>\n",
       "</table>\n",
       "<p>500 rows × 1 columns</p>\n",
       "</div>"
      ],
      "text/plain": [
       "           original_title\n",
       "0                  Avatar\n",
       "25                Titanic\n",
       "16           The Avengers\n",
       "28         Jurassic World\n",
       "44              Furious 7\n",
       "...                   ...\n",
       "390      It's Complicated\n",
       "1556           Knocked Up\n",
       "669   The Prince of Egypt\n",
       "687          Jack Reacher\n",
       "684            Collateral\n",
       "\n",
       "[500 rows x 1 columns]"
      ]
     },
     "execution_count": 42,
     "metadata": {},
     "output_type": "execute_result"
    }
   ],
   "source": [
    "# Top 500 movies based on revenue in descending order\n",
    "top_movies_sort = sort_revenue[['original_title']].head(500)\n",
    "top_movies_sort"
   ]
  },
  {
   "cell_type": "code",
   "execution_count": 43,
   "id": "ddc28d2c",
   "metadata": {},
   "outputs": [],
   "source": [
    "sorted_data = sort_revenue.head(500)"
   ]
  },
  {
   "cell_type": "code",
   "execution_count": 44,
   "id": "75bd3110",
   "metadata": {},
   "outputs": [
    {
     "data": {
      "text/html": [
       "<div>\n",
       "<style scoped>\n",
       "    .dataframe tbody tr th:only-of-type {\n",
       "        vertical-align: middle;\n",
       "    }\n",
       "\n",
       "    .dataframe tbody tr th {\n",
       "        vertical-align: top;\n",
       "    }\n",
       "\n",
       "    .dataframe thead th {\n",
       "        text-align: right;\n",
       "    }\n",
       "</style>\n",
       "<table border=\"1\" class=\"dataframe\">\n",
       "  <thead>\n",
       "    <tr style=\"text-align: right;\">\n",
       "      <th></th>\n",
       "      <th>budget</th>\n",
       "      <th>revenue</th>\n",
       "      <th>runtime</th>\n",
       "    </tr>\n",
       "  </thead>\n",
       "  <tbody>\n",
       "    <tr>\n",
       "      <th>0</th>\n",
       "      <td>237000000</td>\n",
       "      <td>2787965087</td>\n",
       "      <td>162.0</td>\n",
       "    </tr>\n",
       "    <tr>\n",
       "      <th>25</th>\n",
       "      <td>200000000</td>\n",
       "      <td>1845034188</td>\n",
       "      <td>194.0</td>\n",
       "    </tr>\n",
       "    <tr>\n",
       "      <th>16</th>\n",
       "      <td>220000000</td>\n",
       "      <td>1519557910</td>\n",
       "      <td>143.0</td>\n",
       "    </tr>\n",
       "    <tr>\n",
       "      <th>28</th>\n",
       "      <td>150000000</td>\n",
       "      <td>1513528810</td>\n",
       "      <td>124.0</td>\n",
       "    </tr>\n",
       "    <tr>\n",
       "      <th>44</th>\n",
       "      <td>190000000</td>\n",
       "      <td>1506249360</td>\n",
       "      <td>137.0</td>\n",
       "    </tr>\n",
       "    <tr>\n",
       "      <th>...</th>\n",
       "      <td>...</td>\n",
       "      <td>...</td>\n",
       "      <td>...</td>\n",
       "    </tr>\n",
       "    <tr>\n",
       "      <th>390</th>\n",
       "      <td>85000000</td>\n",
       "      <td>219103655</td>\n",
       "      <td>121.0</td>\n",
       "    </tr>\n",
       "    <tr>\n",
       "      <th>1556</th>\n",
       "      <td>30000000</td>\n",
       "      <td>219076518</td>\n",
       "      <td>129.0</td>\n",
       "    </tr>\n",
       "    <tr>\n",
       "      <th>669</th>\n",
       "      <td>70000000</td>\n",
       "      <td>218613188</td>\n",
       "      <td>99.0</td>\n",
       "    </tr>\n",
       "    <tr>\n",
       "      <th>687</th>\n",
       "      <td>60000000</td>\n",
       "      <td>218340595</td>\n",
       "      <td>130.0</td>\n",
       "    </tr>\n",
       "    <tr>\n",
       "      <th>684</th>\n",
       "      <td>65000000</td>\n",
       "      <td>217764291</td>\n",
       "      <td>120.0</td>\n",
       "    </tr>\n",
       "  </tbody>\n",
       "</table>\n",
       "<p>500 rows × 3 columns</p>\n",
       "</div>"
      ],
      "text/plain": [
       "         budget     revenue  runtime\n",
       "0     237000000  2787965087    162.0\n",
       "25    200000000  1845034188    194.0\n",
       "16    220000000  1519557910    143.0\n",
       "28    150000000  1513528810    124.0\n",
       "44    190000000  1506249360    137.0\n",
       "...         ...         ...      ...\n",
       "390    85000000   219103655    121.0\n",
       "1556   30000000   219076518    129.0\n",
       "669    70000000   218613188     99.0\n",
       "687    60000000   218340595    130.0\n",
       "684    65000000   217764291    120.0\n",
       "\n",
       "[500 rows x 3 columns]"
      ]
     },
     "execution_count": 44,
     "metadata": {},
     "output_type": "execute_result"
    }
   ],
   "source": [
    "column1 = sorted_data[['budget','revenue','runtime']]\n",
    "column1"
   ]
  },
  {
   "cell_type": "code",
   "execution_count": 45,
   "id": "fa0d6fbe",
   "metadata": {},
   "outputs": [
    {
     "data": {
      "text/html": [
       "<div>\n",
       "<style scoped>\n",
       "    .dataframe tbody tr th:only-of-type {\n",
       "        vertical-align: middle;\n",
       "    }\n",
       "\n",
       "    .dataframe tbody tr th {\n",
       "        vertical-align: top;\n",
       "    }\n",
       "\n",
       "    .dataframe thead th {\n",
       "        text-align: right;\n",
       "    }\n",
       "</style>\n",
       "<table border=\"1\" class=\"dataframe\">\n",
       "  <thead>\n",
       "    <tr style=\"text-align: right;\">\n",
       "      <th></th>\n",
       "      <th>budget</th>\n",
       "      <th>revenue</th>\n",
       "    </tr>\n",
       "  </thead>\n",
       "  <tbody>\n",
       "    <tr>\n",
       "      <th>0</th>\n",
       "      <td>237000000</td>\n",
       "      <td>2787965087</td>\n",
       "    </tr>\n",
       "    <tr>\n",
       "      <th>25</th>\n",
       "      <td>200000000</td>\n",
       "      <td>1845034188</td>\n",
       "    </tr>\n",
       "    <tr>\n",
       "      <th>16</th>\n",
       "      <td>220000000</td>\n",
       "      <td>1519557910</td>\n",
       "    </tr>\n",
       "    <tr>\n",
       "      <th>28</th>\n",
       "      <td>150000000</td>\n",
       "      <td>1513528810</td>\n",
       "    </tr>\n",
       "    <tr>\n",
       "      <th>44</th>\n",
       "      <td>190000000</td>\n",
       "      <td>1506249360</td>\n",
       "    </tr>\n",
       "    <tr>\n",
       "      <th>...</th>\n",
       "      <td>...</td>\n",
       "      <td>...</td>\n",
       "    </tr>\n",
       "    <tr>\n",
       "      <th>390</th>\n",
       "      <td>85000000</td>\n",
       "      <td>219103655</td>\n",
       "    </tr>\n",
       "    <tr>\n",
       "      <th>1556</th>\n",
       "      <td>30000000</td>\n",
       "      <td>219076518</td>\n",
       "    </tr>\n",
       "    <tr>\n",
       "      <th>669</th>\n",
       "      <td>70000000</td>\n",
       "      <td>218613188</td>\n",
       "    </tr>\n",
       "    <tr>\n",
       "      <th>687</th>\n",
       "      <td>60000000</td>\n",
       "      <td>218340595</td>\n",
       "    </tr>\n",
       "    <tr>\n",
       "      <th>684</th>\n",
       "      <td>65000000</td>\n",
       "      <td>217764291</td>\n",
       "    </tr>\n",
       "  </tbody>\n",
       "</table>\n",
       "<p>500 rows × 2 columns</p>\n",
       "</div>"
      ],
      "text/plain": [
       "         budget     revenue\n",
       "0     237000000  2787965087\n",
       "25    200000000  1845034188\n",
       "16    220000000  1519557910\n",
       "28    150000000  1513528810\n",
       "44    190000000  1506249360\n",
       "...         ...         ...\n",
       "390    85000000   219103655\n",
       "1556   30000000   219076518\n",
       "669    70000000   218613188\n",
       "687    60000000   218340595\n",
       "684    65000000   217764291\n",
       "\n",
       "[500 rows x 2 columns]"
      ]
     },
     "execution_count": 45,
     "metadata": {},
     "output_type": "execute_result"
    }
   ],
   "source": [
    "budget_revenue = column1[['budget','revenue']]\n",
    "budget_revenue"
   ]
  },
  {
   "cell_type": "code",
   "execution_count": 46,
   "id": "51ea70ad",
   "metadata": {},
   "outputs": [
    {
     "data": {
      "text/html": [
       "<div>\n",
       "<style scoped>\n",
       "    .dataframe tbody tr th:only-of-type {\n",
       "        vertical-align: middle;\n",
       "    }\n",
       "\n",
       "    .dataframe tbody tr th {\n",
       "        vertical-align: top;\n",
       "    }\n",
       "\n",
       "    .dataframe thead th {\n",
       "        text-align: right;\n",
       "    }\n",
       "</style>\n",
       "<table border=\"1\" class=\"dataframe\">\n",
       "  <thead>\n",
       "    <tr style=\"text-align: right;\">\n",
       "      <th></th>\n",
       "      <th>runtime</th>\n",
       "    </tr>\n",
       "  </thead>\n",
       "  <tbody>\n",
       "    <tr>\n",
       "      <th>0</th>\n",
       "      <td>162.0</td>\n",
       "    </tr>\n",
       "    <tr>\n",
       "      <th>25</th>\n",
       "      <td>194.0</td>\n",
       "    </tr>\n",
       "    <tr>\n",
       "      <th>16</th>\n",
       "      <td>143.0</td>\n",
       "    </tr>\n",
       "    <tr>\n",
       "      <th>28</th>\n",
       "      <td>124.0</td>\n",
       "    </tr>\n",
       "    <tr>\n",
       "      <th>44</th>\n",
       "      <td>137.0</td>\n",
       "    </tr>\n",
       "    <tr>\n",
       "      <th>...</th>\n",
       "      <td>...</td>\n",
       "    </tr>\n",
       "    <tr>\n",
       "      <th>390</th>\n",
       "      <td>121.0</td>\n",
       "    </tr>\n",
       "    <tr>\n",
       "      <th>1556</th>\n",
       "      <td>129.0</td>\n",
       "    </tr>\n",
       "    <tr>\n",
       "      <th>669</th>\n",
       "      <td>99.0</td>\n",
       "    </tr>\n",
       "    <tr>\n",
       "      <th>687</th>\n",
       "      <td>130.0</td>\n",
       "    </tr>\n",
       "    <tr>\n",
       "      <th>684</th>\n",
       "      <td>120.0</td>\n",
       "    </tr>\n",
       "  </tbody>\n",
       "</table>\n",
       "<p>500 rows × 1 columns</p>\n",
       "</div>"
      ],
      "text/plain": [
       "      runtime\n",
       "0       162.0\n",
       "25      194.0\n",
       "16      143.0\n",
       "28      124.0\n",
       "44      137.0\n",
       "...       ...\n",
       "390     121.0\n",
       "1556    129.0\n",
       "669      99.0\n",
       "687     130.0\n",
       "684     120.0\n",
       "\n",
       "[500 rows x 1 columns]"
      ]
     },
     "execution_count": 46,
     "metadata": {},
     "output_type": "execute_result"
    }
   ],
   "source": [
    "runtime_col = column1[['runtime']]\n",
    "runtime_col"
   ]
  },
  {
   "cell_type": "code",
   "execution_count": null,
   "id": "562278af",
   "metadata": {},
   "outputs": [],
   "source": []
  },
  {
   "cell_type": "code",
   "execution_count": 47,
   "id": "8913a957",
   "metadata": {},
   "outputs": [
    {
     "data": {
      "text/html": [
       "<div>\n",
       "<style scoped>\n",
       "    .dataframe tbody tr th:only-of-type {\n",
       "        vertical-align: middle;\n",
       "    }\n",
       "\n",
       "    .dataframe tbody tr th {\n",
       "        vertical-align: top;\n",
       "    }\n",
       "\n",
       "    .dataframe thead th {\n",
       "        text-align: right;\n",
       "    }\n",
       "</style>\n",
       "<table border=\"1\" class=\"dataframe\">\n",
       "  <thead>\n",
       "    <tr style=\"text-align: right;\">\n",
       "      <th></th>\n",
       "      <th>Budget</th>\n",
       "      <th>Revenue</th>\n",
       "      <th>Runtime</th>\n",
       "    </tr>\n",
       "  </thead>\n",
       "  <tbody>\n",
       "    <tr>\n",
       "      <th>0</th>\n",
       "      <td>103193736.0</td>\n",
       "      <td>4.585776e+08</td>\n",
       "      <td>118.72</td>\n",
       "    </tr>\n",
       "    <tr>\n",
       "      <th>1</th>\n",
       "      <td>95000000.0</td>\n",
       "      <td>3.630016e+08</td>\n",
       "      <td>116.00</td>\n",
       "    </tr>\n",
       "    <tr>\n",
       "      <th>2</th>\n",
       "      <td>150000000.0</td>\n",
       "      <td>2.787965e+09</td>\n",
       "      <td>115.00</td>\n",
       "    </tr>\n",
       "  </tbody>\n",
       "</table>\n",
       "</div>"
      ],
      "text/plain": [
       "        Budget       Revenue  Runtime\n",
       "0  103193736.0  4.585776e+08   118.72\n",
       "1   95000000.0  3.630016e+08   116.00\n",
       "2  150000000.0  2.787965e+09   115.00"
      ]
     },
     "execution_count": 47,
     "metadata": {},
     "output_type": "execute_result"
    }
   ],
   "source": [
    "# calculate the central tendency\n",
    "import statistics as st\n",
    "\n",
    "# declaring mean , median and mode\n",
    "Mean = []\n",
    "Median = []\n",
    "Mode = []\n",
    "\n",
    "for col in column1:\n",
    "    Mean.append(column1[col].mean())\n",
    "    Median.append(column1[col].median())\n",
    "    Mode.append(st.mode(column1[col]))\n",
    "    \n",
    "row_heads = ['Mean','Median','Mode']\n",
    "col_names = ['Budget','Revenue','Runtime']\n",
    "\n",
    "d_data = pd.DataFrame([Mean,Median,Mode],columns=col_names)\n",
    "d_data"
   ]
  },
  {
   "cell_type": "code",
   "execution_count": 48,
   "id": "cfed6643",
   "metadata": {},
   "outputs": [
    {
     "data": {
      "text/html": [
       "<div>\n",
       "<style scoped>\n",
       "    .dataframe tbody tr th:only-of-type {\n",
       "        vertical-align: middle;\n",
       "    }\n",
       "\n",
       "    .dataframe tbody tr th {\n",
       "        vertical-align: top;\n",
       "    }\n",
       "\n",
       "    .dataframe thead th {\n",
       "        text-align: right;\n",
       "    }\n",
       "</style>\n",
       "<table border=\"1\" class=\"dataframe\">\n",
       "  <thead>\n",
       "    <tr style=\"text-align: right;\">\n",
       "      <th></th>\n",
       "      <th>Measure</th>\n",
       "      <th>Budget</th>\n",
       "      <th>Revenue</th>\n",
       "      <th>Runtime</th>\n",
       "    </tr>\n",
       "  </thead>\n",
       "  <tbody>\n",
       "    <tr>\n",
       "      <th>0</th>\n",
       "      <td>Mean</td>\n",
       "      <td>103193736.0</td>\n",
       "      <td>4.585776e+08</td>\n",
       "      <td>118.72</td>\n",
       "    </tr>\n",
       "    <tr>\n",
       "      <th>1</th>\n",
       "      <td>Median</td>\n",
       "      <td>95000000.0</td>\n",
       "      <td>3.630016e+08</td>\n",
       "      <td>116.00</td>\n",
       "    </tr>\n",
       "    <tr>\n",
       "      <th>2</th>\n",
       "      <td>Mode</td>\n",
       "      <td>150000000.0</td>\n",
       "      <td>2.787965e+09</td>\n",
       "      <td>115.00</td>\n",
       "    </tr>\n",
       "  </tbody>\n",
       "</table>\n",
       "</div>"
      ],
      "text/plain": [
       "  Measure       Budget       Revenue  Runtime\n",
       "0    Mean  103193736.0  4.585776e+08   118.72\n",
       "1  Median   95000000.0  3.630016e+08   116.00\n",
       "2    Mode  150000000.0  2.787965e+09   115.00"
      ]
     },
     "execution_count": 48,
     "metadata": {},
     "output_type": "execute_result"
    }
   ],
   "source": [
    "# inserting a new column name of Measure in above data\n",
    "\n",
    "d_data.insert(0,'Measure',row_heads)\n",
    "d_data"
   ]
  },
  {
   "cell_type": "markdown",
   "id": "acb045c3",
   "metadata": {},
   "source": [
    "#### Display above budget & revenue columns using box plots"
   ]
  },
  {
   "cell_type": "code",
   "execution_count": 49,
   "id": "228402fa",
   "metadata": {},
   "outputs": [
    {
     "data": {
      "image/png": "[encoded data removed]",
      "text/plain": [
       "<Figure size 1500x700 with 1 Axes>"
      ]
     },
     "metadata": {},
     "output_type": "display_data"
    }
   ],
   "source": [
    "fig,ax = plt.subplots(figsize=(15,7))\n",
    "sns.boxplot(data=budget_revenue)\n",
    "plt.title('Boxplot of Budget & Revenue')\n",
    "plt.show()"
   ]
  },
  {
   "cell_type": "code",
   "execution_count": 50,
   "id": "132b858d",
   "metadata": {},
   "outputs": [],
   "source": [
    "# outlier treatment of Budget & Revenue Column"
   ]
  },
  {
   "cell_type": "code",
   "execution_count": 51,
   "id": "cdbfbf8f",
   "metadata": {},
   "outputs": [
    {
     "name": "stdout",
     "output_type": "stream",
     "text": [
      "Int64Index([   0,   25,   16,   28,   44,    7,  123,   31,  525,   26,   52,\n",
      "             324,   29,   36,    3,   42,   12,   17,   32,   97,   65,  195,\n",
      "             488,   78,    1,   22,   19,  323,  112,    8,  325,  231,  648,\n",
      "             544,  113,    5,  343,    2,  320,  273,  486,    9,  260,   77,\n",
      "             227,  181,   35,  170,   95,  157,  489,  105, 2421,  189,  476,\n",
      "              53,   30,  747, 2383,   93,   59,  199,   81,   85,   20,  198,\n",
      "              63,   46,  144,   72,   34,  124,   66],\n",
      "           dtype='int64')\n"
     ]
    }
   ],
   "source": [
    "x = budget_revenue[budget_revenue['revenue']>=7.2e+08].index\n",
    "print(x)\n",
    "for index in x:\n",
    "    budget_revenue.loc[index,'revenue']=4.585776e+08"
   ]
  },
  {
   "cell_type": "code",
   "execution_count": 52,
   "id": "db2d2891",
   "metadata": {},
   "outputs": [
    {
     "data": {
      "image/png": "[encoded data removed]",
      "text/plain": [
       "<Figure size 1500x700 with 1 Axes>"
      ]
     },
     "metadata": {},
     "output_type": "display_data"
    }
   ],
   "source": [
    "fig,ax = plt.subplots(figsize=(15,7))\n",
    "sns.boxplot(data=budget_revenue)\n",
    "plt.title('Boxplot of Budget & Revenue')\n",
    "\n",
    "plt.show()"
   ]
  },
  {
   "cell_type": "code",
   "execution_count": null,
   "id": "c952997c",
   "metadata": {},
   "outputs": [],
   "source": []
  },
  {
   "cell_type": "code",
   "execution_count": 53,
   "id": "c83a50b4",
   "metadata": {},
   "outputs": [
    {
     "data": {
      "image/png": "[encoded data removed]",
      "text/plain": [
       "<Figure size 1500x700 with 1 Axes>"
      ]
     },
     "metadata": {},
     "output_type": "display_data"
    }
   ],
   "source": [
    "# boxplot of runtime\n",
    "fig,ax = plt.subplots(figsize=(15,7))\n",
    "sns.boxplot(data=runtime_col)\n",
    "plt.title('Boxplot of Runtime')\n",
    "plt.show()"
   ]
  },
  {
   "cell_type": "code",
   "execution_count": 54,
   "id": "dbfcb738",
   "metadata": {},
   "outputs": [],
   "source": [
    "# outlier treatment of 'runtime' column"
   ]
  },
  {
   "cell_type": "code",
   "execution_count": 55,
   "id": "bd4e7836",
   "metadata": {},
   "outputs": [
    {
     "name": "stdout",
     "output_type": "stream",
     "text": [
      "Int64Index([25, 324, 24, 109, 1955, 2863, 295, 1616, 662], dtype='int64')\n"
     ]
    }
   ],
   "source": [
    "z = runtime_col[(runtime_col['runtime']>=180)].index\n",
    "print(z)\n",
    "for index in z:\n",
    "    runtime_col.loc[index,'runtime']=118.72"
   ]
  },
  {
   "cell_type": "code",
   "execution_count": 56,
   "id": "b3568d63",
   "metadata": {},
   "outputs": [
    {
     "data": {
      "image/png": "[encoded data removed]",
      "text/plain": [
       "<Figure size 1500x700 with 1 Axes>"
      ]
     },
     "metadata": {},
     "output_type": "display_data"
    }
   ],
   "source": [
    "fig,ax = plt.subplots(figsize=(15,7))\n",
    "sns.boxplot(data=runtime_col)\n",
    "plt.title('Boxplot of Runtime')\n",
    "plt.show()"
   ]
  },
  {
   "cell_type": "code",
   "execution_count": null,
   "id": "5770849d",
   "metadata": {},
   "outputs": [],
   "source": []
  },
  {
   "cell_type": "markdown",
   "id": "23f7747a",
   "metadata": {},
   "source": [
    "# Task 11"
   ]
  },
  {
   "cell_type": "markdown",
   "id": "30f26e36",
   "metadata": {},
   "source": [
    "### Identify and display the names of the movies along with their run times for those movies that have above average runtime, using the data from the previous task."
   ]
  },
  {
   "cell_type": "code",
   "execution_count": 57,
   "id": "42ff723c",
   "metadata": {},
   "outputs": [
    {
     "data": {
      "text/html": [
       "<div>\n",
       "<style scoped>\n",
       "    .dataframe tbody tr th:only-of-type {\n",
       "        vertical-align: middle;\n",
       "    }\n",
       "\n",
       "    .dataframe tbody tr th {\n",
       "        vertical-align: top;\n",
       "    }\n",
       "\n",
       "    .dataframe thead th {\n",
       "        text-align: right;\n",
       "    }\n",
       "</style>\n",
       "<table border=\"1\" class=\"dataframe\">\n",
       "  <thead>\n",
       "    <tr style=\"text-align: right;\">\n",
       "      <th></th>\n",
       "      <th>original_title</th>\n",
       "      <th>runtime</th>\n",
       "    </tr>\n",
       "  </thead>\n",
       "  <tbody>\n",
       "    <tr>\n",
       "      <th>0</th>\n",
       "      <td>Avatar</td>\n",
       "      <td>162.0</td>\n",
       "    </tr>\n",
       "    <tr>\n",
       "      <th>25</th>\n",
       "      <td>Titanic</td>\n",
       "      <td>194.0</td>\n",
       "    </tr>\n",
       "    <tr>\n",
       "      <th>16</th>\n",
       "      <td>The Avengers</td>\n",
       "      <td>143.0</td>\n",
       "    </tr>\n",
       "    <tr>\n",
       "      <th>28</th>\n",
       "      <td>Jurassic World</td>\n",
       "      <td>124.0</td>\n",
       "    </tr>\n",
       "    <tr>\n",
       "      <th>44</th>\n",
       "      <td>Furious 7</td>\n",
       "      <td>137.0</td>\n",
       "    </tr>\n",
       "    <tr>\n",
       "      <th>...</th>\n",
       "      <td>...</td>\n",
       "      <td>...</td>\n",
       "    </tr>\n",
       "    <tr>\n",
       "      <th>502</th>\n",
       "      <td>The Terminal</td>\n",
       "      <td>128.0</td>\n",
       "    </tr>\n",
       "    <tr>\n",
       "      <th>390</th>\n",
       "      <td>It's Complicated</td>\n",
       "      <td>121.0</td>\n",
       "    </tr>\n",
       "    <tr>\n",
       "      <th>1556</th>\n",
       "      <td>Knocked Up</td>\n",
       "      <td>129.0</td>\n",
       "    </tr>\n",
       "    <tr>\n",
       "      <th>687</th>\n",
       "      <td>Jack Reacher</td>\n",
       "      <td>130.0</td>\n",
       "    </tr>\n",
       "    <tr>\n",
       "      <th>684</th>\n",
       "      <td>Collateral</td>\n",
       "      <td>120.0</td>\n",
       "    </tr>\n",
       "  </tbody>\n",
       "</table>\n",
       "<p>234 rows × 2 columns</p>\n",
       "</div>"
      ],
      "text/plain": [
       "        original_title  runtime\n",
       "0               Avatar    162.0\n",
       "25             Titanic    194.0\n",
       "16        The Avengers    143.0\n",
       "28      Jurassic World    124.0\n",
       "44           Furious 7    137.0\n",
       "...                ...      ...\n",
       "502       The Terminal    128.0\n",
       "390   It's Complicated    121.0\n",
       "1556        Knocked Up    129.0\n",
       "687       Jack Reacher    130.0\n",
       "684         Collateral    120.0\n",
       "\n",
       "[234 rows x 2 columns]"
      ]
     },
     "execution_count": 57,
     "metadata": {},
     "output_type": "execute_result"
    }
   ],
   "source": [
    "# filter data of runtime where runtime is greater than average of runtime\n",
    "\n",
    "filter_movie_runtime = sorted_data[(sorted_data['runtime']>118.72)] \n",
    "\n",
    "# display the names of moviesalong with their runtime for those movies that have above average runtime\n",
    "filter_movie_runtime[['original_title','runtime']]"
   ]
  },
  {
   "cell_type": "code",
   "execution_count": null,
   "id": "14f19b3b",
   "metadata": {},
   "outputs": [],
   "source": []
  },
  {
   "cell_type": "code",
   "execution_count": 66,
   "id": "67cc0d72",
   "metadata": {},
   "outputs": [
    {
     "data": {
      "text/html": [
       "<div>\n",
       "<style scoped>\n",
       "    .dataframe tbody tr th:only-of-type {\n",
       "        vertical-align: middle;\n",
       "    }\n",
       "\n",
       "    .dataframe tbody tr th {\n",
       "        vertical-align: top;\n",
       "    }\n",
       "\n",
       "    .dataframe thead th {\n",
       "        text-align: right;\n",
       "    }\n",
       "</style>\n",
       "<table border=\"1\" class=\"dataframe\">\n",
       "  <thead>\n",
       "    <tr style=\"text-align: right;\">\n",
       "      <th></th>\n",
       "      <th>original_title</th>\n",
       "      <th>runtime</th>\n",
       "      <th>revenue</th>\n",
       "      <th>budget</th>\n",
       "      <th>genre</th>\n",
       "    </tr>\n",
       "  </thead>\n",
       "  <tbody>\n",
       "    <tr>\n",
       "      <th>2863</th>\n",
       "      <td>Gone with the Wind</td>\n",
       "      <td>238.0</td>\n",
       "      <td>400176459</td>\n",
       "      <td>4000000</td>\n",
       "      <td>[Drama, Romance, War]</td>\n",
       "    </tr>\n",
       "    <tr>\n",
       "      <th>324</th>\n",
       "      <td>The Lord of the Rings: The Return of the King</td>\n",
       "      <td>201.0</td>\n",
       "      <td>1118888979</td>\n",
       "      <td>94000000</td>\n",
       "      <td>[Adventure, Fantasy, Action]</td>\n",
       "    </tr>\n",
       "    <tr>\n",
       "      <th>1616</th>\n",
       "      <td>Schindler's List</td>\n",
       "      <td>195.0</td>\n",
       "      <td>321365567</td>\n",
       "      <td>22000000</td>\n",
       "      <td>[Drama, History, War]</td>\n",
       "    </tr>\n",
       "    <tr>\n",
       "      <th>25</th>\n",
       "      <td>Titanic</td>\n",
       "      <td>194.0</td>\n",
       "      <td>1845034188</td>\n",
       "      <td>200000000</td>\n",
       "      <td>[Drama, Romance, Thriller]</td>\n",
       "    </tr>\n",
       "    <tr>\n",
       "      <th>662</th>\n",
       "      <td>The Green Mile</td>\n",
       "      <td>189.0</td>\n",
       "      <td>284600000</td>\n",
       "      <td>60000000</td>\n",
       "      <td>[Fantasy, Drama, Crime]</td>\n",
       "    </tr>\n",
       "    <tr>\n",
       "      <th>...</th>\n",
       "      <td>...</td>\n",
       "      <td>...</td>\n",
       "      <td>...</td>\n",
       "      <td>...</td>\n",
       "      <td>...</td>\n",
       "    </tr>\n",
       "    <tr>\n",
       "      <th>2228</th>\n",
       "      <td>Pretty Woman</td>\n",
       "      <td>119.0</td>\n",
       "      <td>463000000</td>\n",
       "      <td>14000000</td>\n",
       "      <td>[Romance, Comedy]</td>\n",
       "    </tr>\n",
       "    <tr>\n",
       "      <th>243</th>\n",
       "      <td>Tomorrow Never Dies</td>\n",
       "      <td>119.0</td>\n",
       "      <td>333011068</td>\n",
       "      <td>110000000</td>\n",
       "      <td>[Adventure, Action, Thriller]</td>\n",
       "    </tr>\n",
       "    <tr>\n",
       "      <th>2227</th>\n",
       "      <td>Fatal Attraction</td>\n",
       "      <td>119.0</td>\n",
       "      <td>320145693</td>\n",
       "      <td>14000000</td>\n",
       "      <td>[Drama, Romance, Thriller]</td>\n",
       "    </tr>\n",
       "    <tr>\n",
       "      <th>247</th>\n",
       "      <td>Insurgent</td>\n",
       "      <td>119.0</td>\n",
       "      <td>295238201</td>\n",
       "      <td>110000000</td>\n",
       "      <td>[Adventure, Science Fiction, Thriller]</td>\n",
       "    </tr>\n",
       "    <tr>\n",
       "      <th>1747</th>\n",
       "      <td>ハウルの動く城</td>\n",
       "      <td>119.0</td>\n",
       "      <td>234710455</td>\n",
       "      <td>24000000</td>\n",
       "      <td>[Fantasy, Animation, Adventure]</td>\n",
       "    </tr>\n",
       "  </tbody>\n",
       "</table>\n",
       "<p>234 rows × 5 columns</p>\n",
       "</div>"
      ],
      "text/plain": [
       "                                     original_title  runtime     revenue  \\\n",
       "2863                             Gone with the Wind    238.0   400176459   \n",
       "324   The Lord of the Rings: The Return of the King    201.0  1118888979   \n",
       "1616                               Schindler's List    195.0   321365567   \n",
       "25                                          Titanic    194.0  1845034188   \n",
       "662                                  The Green Mile    189.0   284600000   \n",
       "...                                             ...      ...         ...   \n",
       "2228                                   Pretty Woman    119.0   463000000   \n",
       "243                             Tomorrow Never Dies    119.0   333011068   \n",
       "2227                               Fatal Attraction    119.0   320145693   \n",
       "247                                       Insurgent    119.0   295238201   \n",
       "1747                                        ハウルの動く城    119.0   234710455   \n",
       "\n",
       "         budget                                   genre  \n",
       "2863    4000000                   [Drama, Romance, War]  \n",
       "324    94000000            [Adventure, Fantasy, Action]  \n",
       "1616   22000000                   [Drama, History, War]  \n",
       "25    200000000              [Drama, Romance, Thriller]  \n",
       "662    60000000                 [Fantasy, Drama, Crime]  \n",
       "...         ...                                     ...  \n",
       "2228   14000000                       [Romance, Comedy]  \n",
       "243   110000000           [Adventure, Action, Thriller]  \n",
       "2227   14000000              [Drama, Romance, Thriller]  \n",
       "247   110000000  [Adventure, Science Fiction, Thriller]  \n",
       "1747   24000000         [Fantasy, Animation, Adventure]  \n",
       "\n",
       "[234 rows x 5 columns]"
      ]
     },
     "execution_count": 66,
     "metadata": {},
     "output_type": "execute_result"
    }
   ],
   "source": [
    "# extra \n",
    "filter_movie_runtime[['original_title','runtime','revenue','budget','genre']].sort_values(by='runtime',ascending=False)"
   ]
  },
  {
   "cell_type": "code",
   "execution_count": null,
   "id": "7d43e23e",
   "metadata": {},
   "outputs": [],
   "source": []
  },
  {
   "cell_type": "code",
   "execution_count": 59,
   "id": "e06b72cb",
   "metadata": {},
   "outputs": [
    {
     "data": {
      "text/html": [
       "<div>\n",
       "<style scoped>\n",
       "    .dataframe tbody tr th:only-of-type {\n",
       "        vertical-align: middle;\n",
       "    }\n",
       "\n",
       "    .dataframe tbody tr th {\n",
       "        vertical-align: top;\n",
       "    }\n",
       "\n",
       "    .dataframe thead th {\n",
       "        text-align: right;\n",
       "    }\n",
       "</style>\n",
       "<table border=\"1\" class=\"dataframe\">\n",
       "  <thead>\n",
       "    <tr style=\"text-align: right;\">\n",
       "      <th></th>\n",
       "      <th>budget</th>\n",
       "      <th>genres</th>\n",
       "      <th>homepage</th>\n",
       "      <th>id</th>\n",
       "      <th>keywords</th>\n",
       "      <th>original_language</th>\n",
       "      <th>original_title</th>\n",
       "      <th>overview</th>\n",
       "      <th>popularity</th>\n",
       "      <th>production_companies</th>\n",
       "      <th>...</th>\n",
       "      <th>revenue</th>\n",
       "      <th>runtime</th>\n",
       "      <th>spoken_languages</th>\n",
       "      <th>status</th>\n",
       "      <th>tagline</th>\n",
       "      <th>title</th>\n",
       "      <th>vote_average</th>\n",
       "      <th>vote_count</th>\n",
       "      <th>genre</th>\n",
       "      <th>Production_Company</th>\n",
       "    </tr>\n",
       "  </thead>\n",
       "  <tbody>\n",
       "    <tr>\n",
       "      <th>3050</th>\n",
       "      <td>1</td>\n",
       "      <td>[{'id': 18, 'name': 'Drama'}, {'id': 35, 'name...</td>\n",
       "      <td>http://www.missionimpossible.com/</td>\n",
       "      <td>3082</td>\n",
       "      <td>[{\"id\": 1382, \"name\": \"factory\"}, {\"id\": 1546,...</td>\n",
       "      <td>en</td>\n",
       "      <td>Modern Times</td>\n",
       "      <td>The Tramp struggles to live in modern industri...</td>\n",
       "      <td>28.27648</td>\n",
       "      <td>[{'name': 'United Artists', 'id': 60}, {'name'...</td>\n",
       "      <td>...</td>\n",
       "      <td>8500000</td>\n",
       "      <td>87.0</td>\n",
       "      <td>[{\"iso_639_1\": \"en\", \"name\": \"English\"}]</td>\n",
       "      <td>Released</td>\n",
       "      <td>He stands alone as the greatest entertainer of...</td>\n",
       "      <td>Modern Times</td>\n",
       "      <td>8.1</td>\n",
       "      <td>856</td>\n",
       "      <td>[Drama, Comedy]</td>\n",
       "      <td>[United Artists, Charles Chaplin Productions]</td>\n",
       "    </tr>\n",
       "  </tbody>\n",
       "</table>\n",
       "<p>1 rows × 22 columns</p>\n",
       "</div>"
      ],
      "text/plain": [
       "      budget                                             genres  \\\n",
       "3050       1  [{'id': 18, 'name': 'Drama'}, {'id': 35, 'name...   \n",
       "\n",
       "                               homepage    id  \\\n",
       "3050  http://www.missionimpossible.com/  3082   \n",
       "\n",
       "                                               keywords original_language  \\\n",
       "3050  [{\"id\": 1382, \"name\": \"factory\"}, {\"id\": 1546,...                en   \n",
       "\n",
       "     original_title                                           overview  \\\n",
       "3050   Modern Times  The Tramp struggles to live in modern industri...   \n",
       "\n",
       "      popularity                               production_companies  ...  \\\n",
       "3050    28.27648  [{'name': 'United Artists', 'id': 60}, {'name'...  ...   \n",
       "\n",
       "      revenue runtime                          spoken_languages    status  \\\n",
       "3050  8500000    87.0  [{\"iso_639_1\": \"en\", \"name\": \"English\"}]  Released   \n",
       "\n",
       "                                                tagline         title  \\\n",
       "3050  He stands alone as the greatest entertainer of...  Modern Times   \n",
       "\n",
       "     vote_average vote_count            genre  \\\n",
       "3050          8.1        856  [Drama, Comedy]   \n",
       "\n",
       "                                 Production_Company  \n",
       "3050  [United Artists, Charles Chaplin Productions]  \n",
       "\n",
       "[1 rows x 22 columns]"
      ]
     },
     "execution_count": 59,
     "metadata": {},
     "output_type": "execute_result"
    }
   ],
   "source": [
    "# extra\n",
    "df[(df['original_title']=='Modern Times')]"
   ]
  },
  {
   "cell_type": "code",
   "execution_count": null,
   "id": "0fba478c",
   "metadata": {},
   "outputs": [],
   "source": []
  },
  {
   "cell_type": "code",
   "execution_count": null,
   "id": "af2767e0",
   "metadata": {},
   "outputs": [],
   "source": []
  }
 ],
 "metadata": {
  "kernelspec": {
   "display_name": "Python 3 (ipykernel)",
   "language": "python",
   "name": "python3"
  },
  "language_info": {
   "codemirror_mode": {
    "name": "ipython",
    "version": 3
   },
   "file_extension": ".py",
   "mimetype": "text/x-python",
   "name": "python",
   "nbconvert_exporter": "python",
   "pygments_lexer": "ipython3",
   "version": "3.9.13"
  }
 },
 "nbformat": 4,
 "nbformat_minor": 5
}
